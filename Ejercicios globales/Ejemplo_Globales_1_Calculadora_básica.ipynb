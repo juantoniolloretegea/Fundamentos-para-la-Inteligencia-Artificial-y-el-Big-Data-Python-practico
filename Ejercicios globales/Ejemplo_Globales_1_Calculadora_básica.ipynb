{
  "nbformat": 4,
  "nbformat_minor": 0,
  "metadata": {
    "colab": {
      "name": "Ejemplo_Globales_1_Calculadora_básica",
      "provenance": [],
      "collapsed_sections": [],
      "mount_file_id": "15GrYOxOodFYmRhNeCJzyfNnrww9QmL42",
      "authorship_tag": "ABX9TyP+iyqTvwzIc8409yTA91Ex"
    },
    "kernelspec": {
      "name": "python3",
      "display_name": "Python 3"
    },
    "language_info": {
      "name": "python"
    }
  },
  "cells": [
    {
      "cell_type": "markdown",
      "source": [
        "Copyright 2022. (Instituto tecnológico virtual de la Inteligencia Artificial para el español ™ | © La Biblia de la IA - The Bible of AI ™ ISSN 2695-641\n",
        "\n",
        "## *Fundamentos para la Inteligencia Artificial y el 'Big Data': «Python práctico»*. \n",
        "**DOI: 10.21428/39829d0b.658ba803**"
      ],
      "metadata": {
        "id": "RHsfDxvxLBd4"
      }
    },
    {
      "cell_type": "markdown",
      "source": [
        "**Autor:** Juan Antonio Lloret Egea."
      ],
      "metadata": {
        "id": "hFcu_uoNLDKm"
      }
    },
    {
      "cell_type": "markdown",
      "source": [
        "#Ejercicio de programación estructurada. Manejo de funciones\n",
        "**Ejercicio Globales 1: «Calculadora básica»**\n",
        "\n",
        "<sub>**BIBLIOGRAFÍA**</sub>\n",
        "\n",
        "\n",
        "---\n"
      ],
      "metadata": {
        "id": "5y_Y3u1wmGng"
      }
    },
    {
      "cell_type": "code",
      "source": [
        "\"\"\" Las funciones que implementa python en su intérprete están ordenadas en esta URL:\n",
        "https://docs.python.org/es/3/library/functions.html\"\"\"\n",
        "    \n",
        "\"\"\" Se recomienda visualizar la declaración 'return' en la URL: \n",
        "https://docs.python.org/es/3/reference/simple_stmts.html#the-return-statement\"\"\"\n",
        "\n",
        "# En este ejercicio vamos a definir cuatro funciones para operaciones básicas: (+,-,x,/)\n",
        "\n",
        "# Creamos una función que sume dos números.\n",
        "\n",
        "def sumar(x, y):\n",
        "    return x + y\n",
        "\n",
        "# Creamos una función que reste dos números.\n",
        "\n",
        "def restar(x, y):\n",
        "    return x - y\n",
        "\n",
        "# Creamos una función que multiplique dos números.\n",
        "\n",
        "def multiplicar(x, y):\n",
        "    return x * y\n",
        "\n",
        "# Creamos una función que divide dos números.\n",
        "def dividir(x, y):\n",
        "    return x / y\n",
        "\n",
        "print (\"Esta calculadora básica efectuará la opción seleccionada entre dos números. \")\n",
        "print (\"---------------------------------------------------------------------------\")\n",
        "\n",
        "print(\"Introduzca una opción: \")\n",
        "\n",
        "print(\" 1: Sumar. \")\n",
        "print(\" 2: Restar. \")\n",
        "print(\" 3: Multiplicar. \")\n",
        "print(\" 4: Dividir. \")\n",
        "\n",
        "while True:\n",
        "    # Capturamos la entrada insertada por el usuario en la variable «seleccion».\n",
        "    seleccion = input(\" Introduzca una opción: \")\n",
        "\n",
        "    # Comprobamos si elige una de las 4 opciones. De lo contrario, saltará al 'else' final.\n",
        "\n",
        "    if seleccion in (\"1\", \"2\", \"3\", \"4\"):\n",
        "        num1 = float(input(\" Introduzca el primer número: \"))\n",
        "        num2 = float(input(\" Introduzca el segundo número: \"))\n",
        "\n",
        "        if seleccion == \"1\":\n",
        "            print(num1, \"+\", num2, \"=\", sumar(num1, num2))\n",
        "\n",
        "        elif seleccion == \"2\":\n",
        "            print(num1, \"-\", num2, \"=\", restar(num1, num2))\n",
        "\n",
        "        elif seleccion == \"3\":\n",
        "            print(num1, \"x\", num2, \"=\", multiplicar(num1, num2))\n",
        "\n",
        "        elif seleccion == \"4\":\n",
        "            print(num1, \"/\", num2, \"=\", dividir(num1, num2))\n",
        "        \n",
        "        # Comprobamos si el usuario quiere realizar otro cálculo.\n",
        "\n",
        "        # Salir del bucle 'while' si la respuesta es no.\n",
        "\n",
        "        proximo_calculo = input(\"¿Efectuar otro cálculo?(S/N): \")\n",
        "        \n",
        "        if (proximo_calculo == \"N\") or (proximo_calculo == \"n\"):\n",
        "          print(\"Programa finalizado... \")\n",
        "          print (\"----------------------------------------------\")\n",
        "          break\n",
        "          \n",
        "    else:\n",
        "        print(\"---------------------------------------------------\")\n",
        "        print(\"Entrada no válida...\")\n"
      ],
      "metadata": {
        "id": "BL1B7cHM_RDY"
      },
      "execution_count": null,
      "outputs": []
    }
  ]
}