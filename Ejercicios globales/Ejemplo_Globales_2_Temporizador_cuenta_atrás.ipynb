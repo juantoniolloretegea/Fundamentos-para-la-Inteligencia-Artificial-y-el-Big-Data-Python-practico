{
  "nbformat": 4,
  "nbformat_minor": 0,
  "metadata": {
    "colab": {
      "name": "Ejemplo_Globales_2_Temporizador_cuenta atrás",
      "provenance": [],
      "collapsed_sections": [],
      "mount_file_id": "15GrYOxOodFYmRhNeCJzyfNnrww9QmL42",
      "authorship_tag": "ABX9TyNQ9Xz1EUuxNXtaGSU8/Ojp"
    },
    "kernelspec": {
      "name": "python3",
      "display_name": "Python 3"
    },
    "language_info": {
      "name": "python"
    }
  },
  "cells": [
    {
      "cell_type": "code",
      "source": [
        "import time \n",
        "def countdown(t): \n",
        "    \n",
        "    while t: \n",
        "        mins, secs = divmod(t, 60) \n",
        "        timer = '{:02d}:{:02d}'.format(mins, secs) \n",
        "        print(timer, end=\"\\r\") \n",
        "        time.sleep(1) \n",
        "        t -= 1\n",
        "      \n",
        "    print('Finalizada la cuenta atrás...') \n",
        "  \n",
        "  \n",
        "t = input(\"Entrar el tiempo en segundo para la cuenta atrás: \") \n",
        "  \n",
        "countdown(int(t))"
      ],
      "metadata": {
        "id": "rjFTsR7vmCXk"
      },
      "execution_count": null,
      "outputs": []
    },
    {
      "cell_type": "markdown",
      "source": [
        "\n",
        "\n",
        "---\n",
        "\n",
        "\n",
        "Copyright 2022. (Instituto tecnológico virtual de la Inteligencia Artificial para el español ™ | © La Biblia de la IA - The Bible of AI ™ ISSN 2695-641\n",
        "\n",
        "## *Fundamentos para la Inteligencia Artificial y el 'Big Data': «Python práctico»*. \n",
        "**DOI: 10.21428/39829d0b.658ba803**"
      ],
      "metadata": {
        "id": "RHsfDxvxLBd4"
      }
    },
    {
      "cell_type": "markdown",
      "source": [
        "**Autor:** Juan Antonio Lloret Egea."
      ],
      "metadata": {
        "id": "hFcu_uoNLDKm"
      }
    },
    {
      "cell_type": "markdown",
      "source": [
        "#Ejercicio de programación estructurada. Manejo de funciones\n",
        "**Ejercicio Globales 1: «Calculadora básica»**\n",
        "\n",
        "<sub>**BIBLIOGRAFÍA**</sub>\n",
        "\n",
        "\n",
        "---\n"
      ],
      "metadata": {
        "id": "5y_Y3u1wmGng"
      }
    }
  ]
}