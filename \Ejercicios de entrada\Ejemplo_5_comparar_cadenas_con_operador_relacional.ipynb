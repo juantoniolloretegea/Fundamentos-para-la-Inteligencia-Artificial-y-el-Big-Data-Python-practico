{
  "nbformat": 4,
  "nbformat_minor": 0,
  "metadata": {
    "colab": {
      "name": "Ejemplo_5_comparar_cadenas_con_operador_relacional",
      "provenance": [],
      "collapsed_sections": [],
      "mount_file_id": "15GrYOxOodFYmRhNeCJzyfNnrww9QmL42",
      "authorship_tag": "ABX9TyO4EneoQ9kHpiRUlh8xu7b1"
    },
    "kernelspec": {
      "name": "python3",
      "display_name": "Python 3"
    },
    "language_info": {
      "name": "python"
    }
  },
  "cells": [
    {
      "cell_type": "markdown",
      "source": [
        "Copyright 2022. (Instituto tecnológico virtual de la Inteligencia Artificial para el español ™ | © La Biblia de la IA - The Bible of AI ™ ISSN 2695-641\n",
        "\n",
        "## *Fundamentos para la Inteligencia Artificial y el 'Big Data': «Python práctico»*. \n",
        "**DOI: 10.21428/39829d0b.658ba803**"
      ],
      "metadata": {
        "id": "RHsfDxvxLBd4"
      }
    },
    {
      "cell_type": "markdown",
      "source": [
        "**Autor:** Juan Antonio Lloret Egea."
      ],
      "metadata": {
        "id": "hFcu_uoNLDKm"
      }
    },
    {
      "cell_type": "markdown",
      "source": [
        "#Ejercicio de estructura de control alternativo\n",
        "**Ejercicio 5: «Comparar cadenas (texto-numéricas) con el operador relacional 'And'»**\n",
        "\n",
        "<sub>**BIBLIOGRAFÍA**</sub>\n",
        "\n",
        "---\n",
        "\n",
        "<sub>[ Muñoz, J. D. (s/f). Python 3 desde cero. Openwebinars.net. Recuperado el 21 de agosto de 2022, de openwebinars.net/academia/portada/python-desde-cero/].</sub>"
      ],
      "metadata": {
        "id": "5y_Y3u1wmGng"
      }
    },
    {
      "cell_type": "code",
      "source": [
        "\n",
        "\"\"\"Vamos a solicitar un usuario y una clave para que si la valida (coincide) se entre al perfil de usuario, \n",
        "de lo contrario se indique que es incorrecto. (Nótese que hay entrada de texto y enteros)\"\"\"\n",
        "\n",
        "#Capturamos las entrada/s introducida/s en teclado por el usuario.\n",
        "\n",
        "usuario = input(\"Introduzca su usuario:\")\n",
        "contraseña = int(input(\"Introduzca su contraseña: \"))\n",
        "if usuario == \"email\" and contraseña == 12345 :\n",
        "  print(\"Entrando a su perfil de usuario... \")\n",
        "else:\n",
        "  print(\"El usuario y contraseña introducidos no son correctos: \")\n"
      ],
      "metadata": {
        "id": "-BgzfWXTMHfo"
      },
      "execution_count": null,
      "outputs": []
    }
  ]
}