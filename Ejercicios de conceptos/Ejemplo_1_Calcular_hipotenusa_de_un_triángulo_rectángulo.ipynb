{
  "nbformat": 4,
  "nbformat_minor": 0,
  "metadata": {
    "colab": {
      "name": "Ejemplo_1_Calcular hipotenusa de un triángulo rectángulo",
      "provenance": [],
      "collapsed_sections": [],
      "mount_file_id": "15GrYOxOodFYmRhNeCJzyfNnrww9QmL42",
      "authorship_tag": "ABX9TyM1oB7EOb17ifQl3OYxHBQs"
    },
    "kernelspec": {
      "name": "python3",
      "display_name": "Python 3"
    },
    "language_info": {
      "name": "python"
    }
  },
  "cells": [
    {
      "cell_type": "markdown",
      "source": [
        "Copyright 2022. (Instituto tecnológico virtual de la Inteligencia Artificial para el español ™ | © La Biblia de la IA - The Bible of AI ™ ISSN 2695-641\n",
        "\n",
        "## *Fundamentos para la Inteligencia Artificial y el 'Big Data': «Python práctico»*. \n",
        "**DOI: 10.21428/39829d0b.658ba803**"
      ],
      "metadata": {
        "id": "RHsfDxvxLBd4"
      }
    },
    {
      "cell_type": "markdown",
      "source": [
        "**Autor:** Juan Antonio Lloret Egea."
      ],
      "metadata": {
        "id": "hFcu_uoNLDKm"
      }
    },
    {
      "cell_type": "markdown",
      "source": [
        "#Ejercicio de estructura secuencial\n",
        "**Ejercicio 1: «Calcular hipotenusa de un triángulo rectángulo»**\n",
        "\n",
        "<sub>**BIBLIOGRAFÍA**</sub>\n",
        "\n",
        "<sub> 1.-) [ Python Software Foundation. (s/f). Contenido de la documentación de Python — documentación de Python - 3.10.6. Python.org. Recuperado el 24 de agosto de 2022, de docs.python.org/es/3/contents.htm ]. </sub>\n",
        "\n",
        "<sub> 2.-) [ Programación en Python - Nivel básico — Materiales del entrenamiento de programación en Python - Nivel básico. (s/f). Readthedocs.io. Recuperado el 24 de agosto de 2022, de entrenamiento-python-basico.readthedocs.io/es/latest/index.html ]\n",
        ".</sub>\n",
        "\n",
        "<sub>  3.-) [Muñoz, J. D. (s/f). Python 3 desde cero. Openwebinars.net. Recuperado el 21 de agosto de 2022, de openwebinars.net/academia/portada/python-desde-cero/]\n",
        ".</sub>\n",
        "\n",
        "<sub> 4.-) [ Python getting started. (s/f). W3schools.com. Recuperado el 24 de agosto de 2022, de w3schools.com/python/python_getstarted.asp ]\n",
        ".</sub>\n",
        "\n",
        "<sub> 5.-) [ Python Software Foundation. (s/f-b). El tutorial de Python — documentación de Python - 3.10.6. Python.org. Recuperado el 24 de agosto de 2022, de docs.python.org/es/3/tutorial/ ]\n",
        "</sub>\n",
        "\n",
        "\n"
      ],
      "metadata": {
        "id": "5y_Y3u1wmGng"
      }
    },
    {
      "cell_type": "code",
      "source": [
        "#Importamos la librería (o paquete) de matemáticas y renonbramos ésta con el 'alias' matemáticas.\n",
        "\n",
        "import math as matemáticas\n",
        "\n",
        "#capturamos la entrada por teclado con 'input' para el valor de cateto 1, y lo convertimos a real o float. Lo mismo para el cateto 2.\n",
        "\n",
        "cateto1=float(input (\"Introduzca el valor del cateto 1:\"))\n",
        "cateto2=float(input(\"Introduzca el valor del cateto 2:\"))\n",
        "\n",
        "\"\"\" Recordamos el Teorema de Pitágoras: La suma de los cuadrados de los catetos es igual al cuadrado de la hipotenusa.\n",
        "Luego la hipotenúsa es igual a la raíz cuadrada de los catetos. Llamaremos a la librería para usar el cálculo de la raíz\"\"\"\n",
        "\n",
        "hipotenusa = matemáticas.sqrt(cateto1 ** 2 + cateto2 ** 2)\n",
        "print(\"El valor de la hipotenusa es:\", hipotenusa)"
      ],
      "metadata": {
        "id": "-BgzfWXTMHfo"
      },
      "execution_count": null,
      "outputs": []
    }
  ]
}