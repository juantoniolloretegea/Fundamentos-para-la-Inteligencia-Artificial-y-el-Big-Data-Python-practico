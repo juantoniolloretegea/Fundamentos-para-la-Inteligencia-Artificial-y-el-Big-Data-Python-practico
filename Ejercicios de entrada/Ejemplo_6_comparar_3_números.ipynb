{
  "nbformat": 4,
  "nbformat_minor": 0,
  "metadata": {
    "colab": {
      "name": "Ejemplo_6_comparar_3_números",
      "provenance": [],
      "collapsed_sections": [
        "RHsfDxvxLBd4"
      ],
      "mount_file_id": "15GrYOxOodFYmRhNeCJzyfNnrww9QmL42",
      "authorship_tag": "ABX9TyPr2YPeZtcT83AWSExr7QAG"
    },
    "kernelspec": {
      "name": "python3",
      "display_name": "Python 3"
    },
    "language_info": {
      "name": "python"
    }
  },
  "cells": [
    {
      "cell_type": "markdown",
      "source": [
        "Copyright 2022. (Instituto tecnológico virtual de la Inteligencia Artificial para el español ™ | © La Biblia de la IA - The Bible of AI ™ ISSN 2695-641\n",
        "\n",
        "## *Fundamentos para la Inteligencia Artificial y el 'Big Data': «Python práctico»*. \n",
        "**DOI: 10.21428/39829d0b.658ba803**"
      ],
      "metadata": {
        "id": "RHsfDxvxLBd4"
      }
    },
    {
      "cell_type": "markdown",
      "source": [
        "**Autor:** Juan Antonio Lloret Egea."
      ],
      "metadata": {
        "id": "hFcu_uoNLDKm"
      }
    },
    {
      "cell_type": "markdown",
      "source": [
        "#Ejercicio de estructura de control alternativo\n",
        "**Ejercicio 5: «Comparar tres números y ordenar de mayor a menor usando concatenación de cadenas también»**\n",
        "\n",
        "<sub>**BIBLIOGRAFÍA**</sub>\n",
        "\n",
        "---\n",
        "\n",
        "<sub>[ Muñoz, J. D. (s/f). Python 3 desde cero. Openwebinars.net. Recuperado el 21 de agosto de 2022, de openwebinars.net/academia/portada/python-desde-cero/].</sub>"
      ],
      "metadata": {
        "id": "5y_Y3u1wmGng"
      }
    },
    {
      "cell_type": "code",
      "source": [
        "\"\"\"Le solicitaremos al usuario que introduzca 3 números (enteros o decimales) y vamos a comparlos para ordenar de mayor a menor. \n",
        "Necesitaremos 3 estructuras de comparación (más un subestrucutra por cada una), más una más para el caso de que los tres sean iguales\"\"\"\n",
        "\n",
        "primernumero = float(input(\"Introduzca el primer número: \"))\n",
        "segundonumero = float(input(\"Introduzca el segundo número: \"))\n",
        "tercernumero = float(input(\"Introduzca el tercer número: \"))\n",
        "\n",
        "print(\"Los números introducidos han sido: \" \"El primero: \" + str(primernumero), \"El segundo: \" + str(segundonumero), \"El tercero: \" + str(tercernumero))\n",
        "\n",
        "#Comprobaremos si el primer número es el mayor de los tres.\n",
        "\n",
        "if primernumero > segundonumero and primernumero > tercernumero:\n",
        "\n",
        "#A su vez comprobamos si el segundo es mayor que el tercero.\n",
        "\n",
        "  if segundonumero > tercernumero:\n",
        "     print(\"El mayor número introducido es el:\" + str(primernumero), \"A continuación:\" + str(segundonumero), \"Y finalmente: \" + str (tercernumero))\n",
        "\n",
        "#Y siendo el primero el mayor, y para el caso de que el tercero sea mayor que el segundo porque salta del 'if' anidado anterior.\n",
        "  else:\n",
        "      print(\"El mayor número introducido es el: \" + str(primernumero), \"A continuación: \" + str(tercernumero),  \"Y finalmente: \" + str(segundonumero))\n",
        "\n",
        "\n",
        "#REPETICIÓN DE EL BLOQUE ANTERIOR SUPONIENDO LAS OTRAS POSIBILIDADES\n",
        "\n",
        "#Ahora se deberá repetir el mismo bloque anterior, pero suponiendo que el mayor número es el segundo introducido.\n",
        "\n",
        "if segundonumero > primernumero and segundonumero > tercernumero:\n",
        "  if primernumero > tercernumero:\n",
        "     print(\"El mayor número introducido es el:\" + str(segundonumero), \"A continuación:\" + str(primernumero), \"Y finalmente: \" + str (tercernumero))\n",
        "  else:\n",
        "      print(\"El mayor número introducido es el: \" + str(segundonumero), \"A continuación: \" + str(tercernumero),  \"Y finalmente: \" + str(segundonumero))\n",
        "\n",
        "\n",
        "# Añadimos la misma estructura, pero suponiendo que el mayor número es el tercero introducido.\n",
        "\n",
        "if tercernumero > primernumero and tercernumero > segundonumero:\n",
        "\n",
        "  if primernumero > segundonumero:\n",
        "     print(\"El mayor número introducido es el:\" + str(tercernumero), \"A continuación:\" + str(primernumero), \"Y finalmente: \" + str (segundonumero))\n",
        "\n",
        " \n",
        "  else:\n",
        "      print(\"El mayor número introducido es el: \" + str(tercernumero), \"A continuación: \" + str(segundonumero),  \"Y finalmente: \" + str(primernumero))\n",
        "\n",
        "#Por último nos faltaría el caso en el que los tres números introducidos fueran iguales\n",
        "\n",
        "else:\n",
        "  print(\"Los tres números introducidos son iguales... \")"
      ],
      "metadata": {
        "id": "-BgzfWXTMHfo"
      },
      "execution_count": null,
      "outputs": []
    }
  ]
}
