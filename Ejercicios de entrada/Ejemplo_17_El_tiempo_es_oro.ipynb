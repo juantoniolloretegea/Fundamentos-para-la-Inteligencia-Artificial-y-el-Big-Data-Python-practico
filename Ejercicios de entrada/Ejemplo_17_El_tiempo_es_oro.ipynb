{
  "nbformat": 4,
  "nbformat_minor": 0,
  "metadata": {
    "colab": {
      "name": "Ejemplo_17_El-tiempo-es-oro",
      "provenance": [],
      "collapsed_sections": [],
      "mount_file_id": "15GrYOxOodFYmRhNeCJzyfNnrww9QmL42",
      "authorship_tag": "ABX9TyPCP4PBFqewTkE5ehq0KJSO",
      "include_colab_link": true
    },
    "kernelspec": {
      "name": "python3",
      "display_name": "Python 3"
    },
    "language_info": {
      "name": "python"
    }
  },
  "cells": [
    {
      "cell_type": "markdown",
      "metadata": {
        "id": "view-in-github",
        "colab_type": "text"
      },
      "source": [
        "<a href=\"https://colab.research.google.com/github/juantoniolloretegea/Fundamentos-para-la-Inteligencia-Artificial-y-el-Big-Data-Python-practico/blob/main/Ejercicios%20de%20entrada/Ejemplo_17_El_tiempo_es_oro.ipynb\" target=\"_parent\"><img src=\"https://colab.research.google.com/assets/colab-badge.svg\" alt=\"Open In Colab\"/></a>"
      ]
    },
    {
      "cell_type": "markdown",
      "source": [
        "# La cuenta atrás del concurso: «El tiempo es oro»\n",
        "\n",
        "Tenemos un concurso por delante, porque «El tiempo es oro»... Y, en la hoja de encargo del programa concurso, -('Backlog, Scrum')-, se nos pide que creemos un cronómetro regresivo con el fin de que los concursantes puedan efectuar un reto en un tiempo determinado. \n",
        "\n",
        "El director del concurso debe poder fijar a su criterio el tiempo necesario para efectuar el reto. Y debe poder visualizarse por pantalla la cuenta atrás, para poder poner nerviosos a los concursantes. Al finalizar el cronómetro regresivo dirá: «¡Campana y se acabó!»\n",
        "\n"
      ],
      "metadata": {
        "id": "TQDdX4pimKUu"
      }
    },
    {
      "cell_type": "code",
      "source": [],
      "metadata": {
        "id": "xEnzq0yZ6dWj"
      },
      "execution_count": null,
      "outputs": []
    },
    {
      "cell_type": "code",
      "source": [
        "# Observaciones:\n",
        "\"\"\"\n",
        "1.-) El usuario director del concurso deberá entrar el tiempo en segundos.\n",
        "2.-) Se nos pide tratamiento de excepciones o depuración de errores. (Con los nervios pueda haber una entrada falsa o errónea).\n",
        "3.-) No se nos pide que recojamos el tipo del concurso. (Que podríamos hacerlo en un diccionario asociando: concurso, como clave; y tiempo, como valor).\n",
        "     Aunque para las vacaciones de verano este cronómetro vendrá bien. \n",
        "\n",
        "Documentación que se recomienda mirar, en caso de dudas:\n",
        "\n",
        "  I.-) Ver el módulo 'time' en la documentación de Python: https://docs.python.org/es/3/library/time.html\n",
        "\n",
        "  II.-) Ver el punto 7.1.2. El método 'format()' de cadenas en: https://docs.python.org/es/3/tutorial/inputoutput.html\n",
        "\n",
        "  III.-) Ver la función 'divmod()' en la documentación de Python: https://docs.python.org/es/3/library/functions.html#divmod\n",
        "\n",
        "\"\"\""
      ],
      "metadata": {
        "id": "SihxgfTQnsw8"
      },
      "execution_count": null,
      "outputs": []
    },
    {
      "cell_type": "code",
      "source": [
        "#Importamos el módulo 'time'. Y usamos un alias para 'time' como «'tiempo'». (Usamos español).\n",
        "\n",
        "import time as tiempo\n",
        "\n",
        "# Nos adentramos en las funciones y definiremos una...: «Cuenta atrás».\n",
        "# (Ésta sólo dependerá del entero «cronómetro» que recogeremos por teclado).\n",
        "\n",
        "# Definimos la función con la sentencia: 'def'.\n",
        "\n",
        "def cuenta_atras(cronometro): \n",
        "    \n",
        "    # Comenzamos con la cuenta atrás, introducida en segundos por el usuario mediante el teclado. \n",
        "    # Nota: las funciones se definen primero, pero Python las comienza por el final.\n",
        "\n",
        "    while cronometro: \n",
        "\n",
        "      # Usaremos la función 'divmod()' incorporada en la V3 de Python.\n",
        "      # Y capturamos como parámetros a pasarle para la división: los 'minutos' y los 'segundos'.\n",
        "      # Fruto de dividir por '60' la variable «cronometro».\n",
        "\n",
        "        minutos, segundos = divmod(cronometro, 60) \n",
        "\n",
        "        # Creamos la variable «temporizador» (con formato de entrada) con 'str.forma()'. Cogemos 2 dígitos.\n",
        "\n",
        "        temporizador = '{:02d}:{:02d}'.format(minutos, segundos) \n",
        "\n",
        "        # Imprimimos el reloj en pantalla.\n",
        "\n",
        "        print(temporizador +\"  \")\n",
        "\n",
        "# Nota: si usamos en la función 'print()' el modificador 'end=\"\"' haría que todo aparezca en la misma línea. \n",
        "# Y un '\\r' evitaría la salida por pantalla. Podríamos ponerlo así:-> «print(temporizador, end=\"\\r\")».\n",
        "\n",
        "# Usamos el módulo 'time', (renombrado a 'tiempo') que es parte de la biblioteca estándar de Python; \n",
        "# y que contiene la función 'sleep()' que suspende (o detiene) un programa durante un número de segundos.\n",
        "\n",
        "        tiempo.sleep(1) \n",
        "        cronometro -= 1\n",
        "      \n",
        "    print(\"---------------------------------------------------\")\n",
        "    print(\"\")\n",
        "    print('¡Campana y se acabó! Las vacaciones han terminado...') \n",
        "    print(\"\")\n",
        "    print(\"----------------------------------------------------\")\n",
        "  \n",
        "  \n",
        "while True:\n",
        "  try:\n",
        "    cronometro = int(input(\"Entre el tiempo en segundos para la cuenta atrás, por favor: \"))\n",
        "    break\n",
        "  except ValueError:\n",
        "    print(\"\")\n",
        "    print(\"** Se debe introducir el tiempo en segundos, un número entero sin decimales... \")\n",
        "    print(\"\")\n",
        "  \n",
        "# Llamamos a la frunción para comenzar la cuenta atrás. Comenzamos...\n",
        "\n",
        "cuenta_atras(int(cronometro))\n",
        "\n",
        "\n"
      ],
      "metadata": {
        "id": "rjFTsR7vmCXk",
        "colab": {
          "base_uri": "https://localhost:8080/"
        },
        "outputId": "89fd7912-e10b-4578-b87b-a5ed7d680bc9"
      },
      "execution_count": null,
      "outputs": [
        {
          "output_type": "stream",
          "name": "stdout",
          "text": [
            "Entre el tiempo en segundos para la cuenta atrás, por favor: «Meto texto por error (para ver la depuración)»\n",
            "\n",
            "** Se debe introducir el tiempo en segundos, un número entero sin decimales... \n",
            "\n",
            "Entre el tiempo en segundos para la cuenta atrás, por favor: 6\n",
            "00:06  \n",
            "00:05  \n",
            "00:04  \n",
            "00:03  \n",
            "00:02  \n",
            "00:01  \n",
            "---------------------------------------------------\n",
            "\n",
            "¡Campana y se acabó! Las vacaciones han terminado...\n",
            "\n",
            "----------------------------------------------------\n"
          ]
        }
      ]
    },
    {
      "cell_type": "markdown",
      "source": [
        "\n",
        "\n",
        "---\n",
        "\n",
        "\n",
        "Copyright 2022. (Instituto tecnológico virtual de la Inteligencia Artificial para el español ™ | © La Biblia de la IA - The Bible of AI ™ ISSN 2695-641\n",
        "\n",
        "## *Fundamentos para la Inteligencia Artificial y el 'Big Data': «Python práctico»*. \n",
        "**DOI: 10.21428/39829d0b.658ba803**"
      ],
      "metadata": {
        "id": "RHsfDxvxLBd4"
      }
    },
    {
      "cell_type": "markdown",
      "source": [
        "**Autor:** Juan Antonio Lloret Egea."
      ],
      "metadata": {
        "id": "hFcu_uoNLDKm"
      }
    },
    {
      "cell_type": "markdown",
      "source": [
        "#Ejercicio de importación de módulos.\n",
        "**Ejercicio 17: «El tiempo es oro»**\n",
        "\n",
        "<sub>**BIBLIOGRAFÍA**</sub>\n",
        "\n",
        "<sub> 1.-) [ Python Software Foundation. (s/f). Contenido de la documentación de Python — documentación de Python - 3.10.6. Python.org. Recuperado el 24 de agosto de 2022, de docs.python.org/es/3/contents.htm ]. </sub>\n",
        "\n",
        "<sub> 2.-) [ Programación en Python - Nivel básico — Materiales del entrenamiento de programación en Python - Nivel básico. (s/f). Readthedocs.io. Recuperado el 24 de agosto de 2022, de entrenamiento-python-basico.readthedocs.io/es/latest/index.html ]\n",
        ".</sub>\n",
        "\n",
        "<sub>  3.-) [Muñoz, J. D. (s/f). Python 3 desde cero. Openwebinars.net. Recuperado el 21 de agosto de 2022, de openwebinars.net/academia/portada/python-desde-cero/]\n",
        ".</sub>\n",
        "\n",
        "<sub> 4.-) [ Python getting started. (s/f). W3schools.com. Recuperado el 24 de agosto de 2022, de w3schools.com/python/python_getstarted.asp ]\n",
        ".</sub>\n",
        "\n",
        "<sub> 5.-) [ Python Software Foundation. (s/f-b). El tutorial de Python — documentación de Python - 3.10.6. Python.org. Recuperado el 24 de agosto de 2022, de docs.python.org/es/3/tutorial/ ]</sub>\n",
        "---\n"
      ],
      "metadata": {
        "id": "5y_Y3u1wmGng"
      }
    }
  ]
}