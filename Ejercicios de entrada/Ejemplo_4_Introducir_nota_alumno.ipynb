{
  "nbformat": 4,
  "nbformat_minor": 0,
  "metadata": {
    "colab": {
      "name": "Ejemplo_4_Introducir_nota_alumno",
      "provenance": [],
      "collapsed_sections": [],
      "mount_file_id": "15GrYOxOodFYmRhNeCJzyfNnrww9QmL42",
      "authorship_tag": "ABX9TyMi/T9P24ODb6ne521Rle+6"
    },
    "kernelspec": {
      "name": "python3",
      "display_name": "Python 3"
    },
    "language_info": {
      "name": "python"
    }
  },
  "cells": [
    {
      "cell_type": "code",
      "source": [
        "# Capturamos las entrada/s introducida/s en teclado por el usuario.\n",
        "\n",
        "# Aplicaremos estructura de control de alternativas múltiple.\n",
        "\n",
        "# Convertimos a float la cadena introducina para permitir reales (decimales)\n",
        "\n",
        "NotaAsignatura=float(input(\"Introduzca su nota: \"))\n",
        "\n",
        "if NotaAsignatura >=0 and NotaAsignatura <= 4.5:\n",
        "  print(\"No aprobado\")\n",
        "elif NotaAsignatura >= 4.5 and NotaAsignatura <= 5:\n",
        "  print(\"Su nota puede promediar\")\n",
        "elif NotaAsignatura >= 5 and NotaAsignatura < 6:\n",
        "  print(\"Aprobado\")\n",
        "elif NotaAsignatura >= 6 and NotaAsignatura <= 6.9:\n",
        "  print(\"Su calificación es 'Bien'\")\n",
        "elif NotaAsignatura >= 7 and NotaAsignatura <= 8.9:\n",
        "  print(\"Su calificación es 'Notable'\")\n",
        "elif NotaAsignatura >= 9 and NotaAsignatura <= 10:\n",
        "  print(\"Su calificación es 'Sobresaliente'\")\n",
        "\n",
        "# Si no se da ninguna de las condiciones anteriores (son falsas:)\n",
        "else:\n",
        "  print(\"Esa nota es incorrecta\")"
      ],
      "metadata": {
        "id": "-BgzfWXTMHfo"
      },
      "execution_count": null,
      "outputs": []
    },
    {
      "cell_type": "markdown",
      "source": [
        "Copyright 2022. (Instituto tecnológico virtual de la Inteligencia Artificial para el español ™ | © La Biblia de la IA - The Bible of AI ™ ISSN 2695-641\n",
        "\n",
        "## *Fundamentos para la Inteligencia Artificial y el 'Big Data': «Python práctico»*. \n",
        "**DOI: 10.21428/39829d0b.658ba803**"
      ],
      "metadata": {
        "id": "RHsfDxvxLBd4"
      }
    },
    {
      "cell_type": "markdown",
      "source": [
        "**Autor:** Juan Antonio Lloret Egea."
      ],
      "metadata": {
        "id": "hFcu_uoNLDKm"
      }
    },
    {
      "cell_type": "markdown",
      "source": [
        "#Ejercicio de estructura de control alternativo múltiple\n",
        "**Ejercicio 4: «Introducir notas de un alumno»**"
      ],
      "metadata": {
        "id": "5y_Y3u1wmGng"
      }
    },
    {
      "cell_type": "markdown",
      "source": [
        "<sub>**BIBLIOGRAFÍA**</sub>\n",
        "\n",
        "<sub> 1.-) [ Python Software Foundation. (s/f). Contenido de la documentación de Python — documentación de Python - 3.10.6. Python.org. Recuperado el 24 de agosto de 2022, de docs.python.org/es/3/contents.htm ]. </sub>\n",
        "\n",
        "<sub> 2.-) [ Programación en Python - Nivel básico — Materiales del entrenamiento de programación en Python - Nivel básico. (s/f). Readthedocs.io. Recuperado el 24 de agosto de 2022, de entrenamiento-python-basico.readthedocs.io/es/latest/index.html ]\n",
        ".</sub>\n",
        "\n",
        "<sub>  3.-) [Muñoz, J. D. (s/f). Python 3 desde cero. Openwebinars.net. Recuperado el 21 de agosto de 2022, de openwebinars.net/academia/portada/python-desde-cero/]\n",
        ".</sub>\n",
        "\n",
        "<sub> 4.-) [ Python getting started. (s/f). W3schools.com. Recuperado el 24 de agosto de 2022, de w3schools.com/python/python_getstarted.asp ]\n",
        ".</sub>\n",
        "\n",
        "<sub> 5.-) [ Python Software Foundation. (s/f-b). El tutorial de Python — documentación de Python - 3.10.6. Python.org. Recuperado el 24 de agosto de 2022, de docs.python.org/es/3/tutorial/ ]\n",
        "</sub>\n",
        "\n",
        "\n"
      ],
      "metadata": {
        "id": "JJnEbwlGqYc9"
      }
    }
  ]
}