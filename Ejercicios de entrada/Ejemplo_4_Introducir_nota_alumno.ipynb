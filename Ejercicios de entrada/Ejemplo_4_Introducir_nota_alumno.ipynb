{
  "nbformat": 4,
  "nbformat_minor": 0,
  "metadata": {
    "colab": {
      "name": "Ejemplo_4_Introducir_nota_alumno",
      "provenance": [],
      "collapsed_sections": [],
      "mount_file_id": "15GrYOxOodFYmRhNeCJzyfNnrww9QmL42",
      "authorship_tag": "ABX9TyNVL33uezq09O3NHaKJs5Yy",
      "include_colab_link": true
    },
    "kernelspec": {
      "name": "python3",
      "display_name": "Python 3"
    },
    "language_info": {
      "name": "python"
    }
  },
  "cells": [
    {
      "cell_type": "markdown",
      "metadata": {
        "id": "view-in-github",
        "colab_type": "text"
      },
      "source": [
        "<a href=\"https://colab.research.google.com/github/juantoniolloretegea/Fundamentos-para-la-Inteligencia-Artificial-y-el-Big-Data-Python-practico/blob/main/Ejercicios%20de%20entrada/Ejemplo_4_Introducir_nota_alumno.ipynb\" target=\"_parent\"><img src=\"https://colab.research.google.com/assets/colab-badge.svg\" alt=\"Open In Colab\"/></a>"
      ]
    },
    {
      "cell_type": "markdown",
      "source": [
        "Copyright 2022. (Instituto tecnológico virtual de la Inteligencia Artificial para el español ™ | © La Biblia de la IA - The Bible of AI ™ ISSN 2695-641\n",
        "\n",
        "## *Fundamentos para la Inteligencia Artificial y el 'Big Data': «Python práctico»*. \n",
        "**DOI: 10.21428/39829d0b.658ba803**"
      ],
      "metadata": {
        "id": "RHsfDxvxLBd4"
      }
    },
    {
      "cell_type": "markdown",
      "source": [
        "**Autor:** Juan Antonio Lloret Egea."
      ],
      "metadata": {
        "id": "hFcu_uoNLDKm"
      }
    },
    {
      "cell_type": "markdown",
      "source": [
        "#Ejercicio de estructura de control alternativo múltiple\n",
        "**Ejercicio 4: «Introducir notas de un alumno»**\n",
        "\n",
        "<sub>**BIBLIOGRAFÍA**</sub>\n",
        "\n",
        "---\n",
        "\n",
        "<sub>[ Muñoz, J. D. (s/f). Python 3 desde cero. Openwebinars.net. Recuperado el 21 de agosto de 2022, de openwebinars.net/academia/portada/python-desde-cero/].</sub>"
      ],
      "metadata": {
        "id": "5y_Y3u1wmGng"
      }
    },
    {
      "cell_type": "code",
      "source": [
        "#Capturamos las entrada/s introducida/s en teclado por el usuario.\n",
        "\n",
        "#Aplicaremos estructura de control de alternativas múltiple.\n",
        "\n",
        "#Convertimos a float la cadena introducina para permitir reales (decimales)\n",
        "\n",
        "NotaAsignatura=float(input(\"Introduzca su nota: \"))\n",
        "\n",
        "if NotaAsignatura >=0 and NotaAsignatura <= 4.5:\n",
        "  print(\"No aprobado\")\n",
        "elif NotaAsignatura >= 4.5 and NotaAsignatura <= 5:\n",
        "  print(\"Su nota puede promediar\")\n",
        "elif NotaAsignatura >= 5 and NotaAsignatura < 6:\n",
        "  print(\"Aprobado\")\n",
        "elif NotaAsignatura >= 6 and NotaAsignatura <= 6.9:\n",
        "  print(\"Su calificación es 'Bien'\")\n",
        "elif NotaAsignatura >= 7 and NotaAsignatura <= 8.9:\n",
        "  print(\"Su calificación es 'Notable'\")\n",
        "elif NotaAsignatura >= 9 and NotaAsignatura <= 10:\n",
        "  print(\"Su calificación es 'Sobresaliente'\")\n",
        "\n",
        "#si no se da ninguna de las condiciones anteriores (son falsas:)\n",
        "else:\n",
        "  print(\"Esa nota es incorrecta\")"
      ],
      "metadata": {
        "id": "-BgzfWXTMHfo"
      },
      "execution_count": null,
      "outputs": []
    }
  ]
}