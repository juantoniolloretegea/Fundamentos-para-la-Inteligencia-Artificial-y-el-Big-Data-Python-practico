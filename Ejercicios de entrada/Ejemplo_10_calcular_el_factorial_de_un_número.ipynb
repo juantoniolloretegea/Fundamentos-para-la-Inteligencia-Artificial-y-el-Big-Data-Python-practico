{
  "nbformat": 4,
  "nbformat_minor": 0,
  "metadata": {
    "colab": {
      "name": "Ejemplo_10_calcular el factorial de un número",
      "provenance": [],
      "collapsed_sections": [],
      "mount_file_id": "15GrYOxOodFYmRhNeCJzyfNnrww9QmL42",
      "authorship_tag": "ABX9TyNrIAkvwfxmKeANKGMLLUis"
    },
    "kernelspec": {
      "name": "python3",
      "display_name": "Python 3"
    },
    "language_info": {
      "name": "python"
    }
  },
  "cells": [
    {
      "cell_type": "code",
      "source": [
        "\"\"\" Todo lo que es posible implementar con 'While', también lo es con 'For'.\n",
        "Ahora bien, si sabemos el número de veces a iterar, entonces, es preferible usar 'For'.\n",
        "La implementación de esa manera para resolver el ejercicio, con un 'For', se la proponemos al lector.\n",
        "\n",
        "Pista: \n",
        "[ for contador in range (1, numero+1):\n",
        "   resultado_factorial = resultado_factorial * contador ]\n",
        "En la pista para simplificar y agilizar el resultado: ¿debiéramos introducir range (2, numero +1)?\"\"\"\n",
        "\n",
        "# Se recomienda visualizar para este ejemplo el concepto de «Factorial» en Wikipedia. https://bit.ly/3T8mlv2.\n",
        "# Inicializamos la variable «resultado_factorial» a valor '1'.\n",
        "\n",
        "resultado_factorial = 1\n",
        "\n",
        "numero = int(input(\"Introduzca el número a factorizar: \"))\n",
        "\n",
        "contador = 1\n",
        "\n",
        "# También podríamos inicializar el «contador» a valor '2' porque éste siempre formará parte de un factorial. ¿Nos ahorraríamos una iteración?\n",
        "# Lo anterior también se lo proponemos al lector para cotejar su funcionamiento.\n",
        "\n",
        "while contador <= numero:\n",
        "\n",
        "  resultado_factorial = resultado_factorial * contador\n",
        "  contador = contador +1\n",
        "\n",
        "print(\"La factorización del número introducido es: \", resultado_factorial)\n",
        "\n"
      ],
      "metadata": {
        "id": "ABxSAHsEYjhw",
        "colab": {
          "base_uri": "https://localhost:8080/"
        },
        "outputId": "b33823b6-d8b6-48b9-85a5-1c5ead23ceee"
      },
      "execution_count": 1,
      "outputs": [
        {
          "output_type": "stream",
          "name": "stdout",
          "text": [
            "Introduzca el número a factorizar: 5\n",
            "La factorización del número introducido es:  120\n"
          ]
        }
      ]
    },
    {
      "cell_type": "markdown",
      "source": [
        "\n",
        "\n",
        "---\n",
        "\n",
        "\n",
        "Copyright 2022. (Instituto tecnológico virtual de la Inteligencia Artificial para el español ™ | © La Biblia de la IA - The Bible of AI ™ ISSN 2695-641\n",
        "\n",
        "## *Fundamentos para la Inteligencia Artificial y el 'Big Data': «Python práctico»*. \n",
        "**DOI: 10.21428/39829d0b.658ba803**"
      ],
      "metadata": {
        "id": "RHsfDxvxLBd4"
      }
    },
    {
      "cell_type": "markdown",
      "source": [
        "**Autor:** Juan Antonio Lloret Egea."
      ],
      "metadata": {
        "id": "hFcu_uoNLDKm"
      }
    },
    {
      "cell_type": "markdown",
      "source": [
        "#Ejercicio de estructura de control repetitivas, iteraciones, o bucles con variables\n",
        "**Ejercicio 10: «Calcular el factorial de un número introducido por el usuario»**\n",
        "\n",
        "<sub>**BIBLIOGRAFÍA**</sub>\n",
        "\n",
        "<sub> 1.-) [ Python Software Foundation. (s/f). Contenido de la documentación de Python — documentación de Python - 3.10.6. Python.org. Recuperado el 24 de agosto de 2022, de docs.python.org/es/3/contents.htm ]. </sub>\n",
        "\n",
        "<sub> 2.-) [ Programación en Python - Nivel básico — Materiales del entrenamiento de programación en Python - Nivel básico. (s/f). Readthedocs.io. Recuperado el 24 de agosto de 2022, de entrenamiento-python-basico.readthedocs.io/es/latest/index.html ]\n",
        ".</sub>\n",
        "\n",
        "<sub>  3.-) [Muñoz, J. D. (s/f). Python 3 desde cero. Openwebinars.net. Recuperado el 21 de agosto de 2022, de openwebinars.net/academia/portada/python-desde-cero/]\n",
        ".</sub>\n",
        "\n",
        "<sub> 4.-) [ Python getting started. (s/f). W3schools.com. Recuperado el 24 de agosto de 2022, de w3schools.com/python/python_getstarted.asp ]\n",
        ".</sub>\n",
        "\n",
        "<sub> 5.-) [ Python Software Foundation. (s/f-b). El tutorial de Python — documentación de Python - 3.10.6. Python.org. Recuperado el 24 de agosto de 2022, de docs.python.org/es/3/tutorial/ ]\n",
        "</sub>"
      ],
      "metadata": {
        "id": "5y_Y3u1wmGng"
      }
    }
  ]
}