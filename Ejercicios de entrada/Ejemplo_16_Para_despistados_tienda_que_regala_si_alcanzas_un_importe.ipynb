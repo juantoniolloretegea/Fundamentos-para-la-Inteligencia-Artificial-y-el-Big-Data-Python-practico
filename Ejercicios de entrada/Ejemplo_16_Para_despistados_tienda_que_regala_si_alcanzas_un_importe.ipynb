{
  "nbformat": 4,
  "nbformat_minor": 0,
  "metadata": {
    "colab": {
      "name": "Ejemplo_16_Para-despistados-tienda-que-regala-si alcanzas un importe",
      "provenance": [],
      "collapsed_sections": [],
      "mount_file_id": "15GrYOxOodFYmRhNeCJzyfNnrww9QmL42",
      "authorship_tag": "ABX9TyOZzEMdVHOqbmKaA8zfhacP",
      "include_colab_link": true
    },
    "kernelspec": {
      "name": "python3",
      "display_name": "Python 3"
    },
    "language_info": {
      "name": "python"
    }
  },
  "cells": [
    {
      "cell_type": "markdown",
      "metadata": {
        "id": "view-in-github",
        "colab_type": "text"
      },
      "source": [
        "<a href=\"https://colab.research.google.com/github/juantoniolloretegea/Fundamentos-para-la-Inteligencia-Artificial-y-el-Big-Data-Python-practico/blob/main/Ejercicios%20de%20entrada/Ejemplo_16_Para_despistados_tienda_que_regala_si_alcanzas_un_importe.ipynb\" target=\"_parent\"><img src=\"https://colab.research.google.com/assets/colab-badge.svg\" alt=\"Open In Colab\"/></a>"
      ]
    },
    {
      "cell_type": "markdown",
      "source": [
        "# Tienda que regala si alcanzas un importe con tratamiento de errores para vendedores despistados\n",
        "\n",
        "1.- Una tienda nos ha pedido que creemos un programa para que cuando un cliente alcance un importe determinado de compra, éste pueda elegir un regalo de los que la tienda pone a disposición para esto y, además, la tienda pueda decirle al cliente el importe equivalente del regalo que le está dando al comprador.\n",
        "\n",
        "2.- Además, en nuestra hoja de encargo se nos advierte que los vendedores van siempre con prisas, y es muy probable que éstos equivoquen los formatos de entrada del programa. Así que nos piden un tratamiento de excepciones, o errores, para mitigar respuestas inesperadas del programa. Lo más básico.\n"
      ],
      "metadata": {
        "id": "TQDdX4pimKUu"
      }
    },
    {
      "cell_type": "code",
      "source": [
        "# Observaciones:\n",
        "\"\"\"\n",
        "1.-) La tienda debe poder fijar, por criterio suyo de venta, el importe con el que el cliente tendrá opción a regalo.\n",
        "2.-) La tienda sólo tendrá un número determinado de artículos para regalos, fijados de antemano. Introducidos en un diccionario.\n",
        "3.-) El cliente pedirá un único tipo de regalo, pero podrá elegir el número de unidades de éste (si hay disponibles) a voluntad.\n",
        "\n",
        "     (Dejamos libre este criterio para que sea el vendedor el que determine la oportunidad de la venta y fidelización del cliente)\n",
        "\n",
        "4.-) Si un regalo no existe, se le dirá al cliente: «No disponemos de ese regalo en stock».\n",
        "\n",
        "Documentación que se recomienda mirar en caso de dudas:\n",
        "\n",
        "  I.-) Se recomienda ver métodos y funciones para diccionarios en:\n",
        "  https://entrenamiento-python-basico.readthedocs.io/es/latest/leccion3/tipo_diccionarios.html\n",
        "\n",
        "  II.-) Se recomienda mirar en la documentación de Python en estructuras de datos 'Diccionarios' en:\n",
        "  https://docs.python.org/es/3/tutorial/datastructures.html#dictionaries\n",
        "\n",
        "  III.-) Se recomienda mirar en la documentación de Python datos tipo 'Mapa' en:\n",
        "  https://docs.python.org/es/3/tutorial/datastructures.html#dictionaries\n",
        "\n",
        "  <----------------------Para el caso concreto de errores y excepciones------------------------->\n",
        "\n",
        "  IV.-) Se recomienda mirar «Manejos de errores y orientación a objetos» en: \n",
        "  https://entrenamiento-python-basico.readthedocs.io/es/latest/leccion9/errores.html#excepciones\n",
        "\n",
        "  V.-) Se recomienda mirar «Errores y excepciones» en la documentación de Python en:\n",
        "  https://docs.python.org/es/3/tutorial/errors.html\n",
        "\n",
        "\n",
        "\"\"\""
      ],
      "metadata": {
        "id": "SihxgfTQnsw8"
      },
      "execution_count": null,
      "outputs": []
    },
    {
      "cell_type": "code",
      "source": [
        "# Vamos a guardar los regalos y su precio unitario en un diccionario. El nombre del regalo será la clave; y el precio, su valor.\n",
        "\n",
        "regalos = {\"perrito\":100,\"patito\":200, \"gatito\":150}\n",
        "\n",
        "print (\"--- Ésta es la lista de regalos:--- \")\n",
        "print(\"\")\n",
        "\n",
        "# Recorremos con un bucle 'for' la lista de regalos con el método 'keys()'.\n",
        "\n",
        "for i in regalos.keys():\n",
        "  print(i)\n",
        "print(\"\")\n",
        "print(\"...\")\n",
        "\n",
        "# Las variables siguientes son para que la tienda introduzca el importe para obtener el regalo, y el valor del tiquet de la compra.\n",
        "\n",
        "print(\"Vamos a comprobar si su compra tiene regalo: \")\n",
        "\n",
        "\"\"\" \n",
        "-------------------------------------------------------------------------------------------------------------------------\n",
        "# Evitaremos las excepciones si el usuario introduce letras, en vez de números enteros. \n",
        "(Consúltese la documentación al respecto arriba si alberga dudas, aunque es muy intuivo el proceso).\n",
        "# No obstante,lo comentaremos generosamente en esta primera entrada el tratamiento de la excepción en su forma completa en clásulas.\n",
        "-----------------------------------------------------------------------------------------------------------------------------\n",
        "\"\"\"\n",
        "\n",
        "# Mientras sea verdadero.\n",
        "\n",
        "while True:\n",
        "\n",
        "# Intenta.\n",
        "\n",
        "  try:\n",
        "\n",
        "# Capturar la entrada por teclado como un número.\n",
        "\n",
        "    importe_regalo = int(input(\"(El vendedor debe introducir el importe para obtener el regalo el cliente): \"))\n",
        "    \n",
        "# Y, si entra un número, pues sigue y rompe el bucle 'while'.\n",
        "\n",
        "    break\n",
        "\n",
        "# Pero si la entrada es, por ejemplo, una letra. \n",
        "# Entonces tenemos una excepción de error de valor o 'ValueError'. E imprime y vuelve al bucle 'while'.\n",
        "  except ValueError:\n",
        "    print(\"\")\n",
        "    print(\"** Se debe introducir un importe, un número entero sin decimales... \")\n",
        "    print(\"\")\n",
        "\n",
        "# Si no es una entrada de ValueError imprime este otro mensaje.\n",
        "\n",
        "  else:\n",
        "    print(\"** Los datos no se están introduciendo de la forma esperada: \")\n",
        "    print(\"\")\n",
        "\n",
        "\n",
        "# Finalmente podemos poner una cláusula 'finally' que se ejecuta siempre que se produce una excepción.\n",
        "  finally:\n",
        "    print(\"** Por favor, vuelva a introducir el importe: \")\n",
        "    print(\"\")\n",
        "\n",
        "\n",
        "while True:\n",
        "  try:\n",
        "    tiquet_compra= int(input(\"Introduzca el importe de la compra:\"))\n",
        "    break\n",
        "  except ValueError:\n",
        "    print(\"\")\n",
        "    print(\"** Se debe introducir un importe, un número entero sin decimales: \")\n",
        "    print(\"\")\n",
        "\n",
        "\n",
        "# Comparamos los importes.\n",
        "\n",
        "if tiquet_compra >= importe_regalo:\n",
        "  print(\"\")\n",
        "  print(\"¡...Tiene derecho a regalo...!\") \n",
        "  print(\"\")\n",
        "\n",
        "# Obligamos a que se elija un regalo que exista.\n",
        "\n",
        "  while True:\n",
        "    regalo = input(\"Indique el regalo elegido: \")\n",
        "    print(\"\")\n",
        "\n",
        "# Convertimos a minúscula la entrada por teclado, con el método 'lower()', porque los productos también están en minúscula en el diccionario.\n",
        "# Y miramos si el regalo elegido está en el diccionario de «regalos».\n",
        "\n",
        "    if regalo.lower() not in regalos:\n",
        "\n",
        "      print(\"No disponemos de ese regalo en stock: \")\n",
        "\n",
        "    else:\n",
        "      while True:\n",
        "        try:\n",
        "\n",
        "          productos = int(input(\"Cuántos artículos de regalo quiere: \"))\n",
        "          print(\"\")\n",
        "          print(\"---\")\n",
        "          print(\"El importe del regalo es %d\" %(productos * regalos[regalo.lower()]))\n",
        "          print(\"\")\n",
        "          print(\" ¡Enhorabuena! Le esperamos de nuevo para otra compra...\")\n",
        "          break\n",
        "        except ValueError:\n",
        "          print(\"\")\n",
        "          print(\"Se debe introducir una cantidad en número entero, por favor:\")\n",
        "          print(\"\")\n",
        "      break\n",
        "else:\n",
        "  print(\"\")\n",
        "  print(\"---------\")\n",
        "  print(\"Este importe de tiquet no tiene derecho a regalo...\")  \n",
        "\n",
        "\n",
        "  \n"
      ],
      "metadata": {
        "id": "W7P6_lJNKOQb",
        "colab": {
          "base_uri": "https://localhost:8080/"
        },
        "outputId": "7bc6746f-1e42-4ca3-fab9-0d7b881aaf59"
      },
      "execution_count": 15,
      "outputs": [
        {
          "output_type": "stream",
          "name": "stdout",
          "text": [
            "--- Ésta es la lista de regalos:--- \n",
            "\n",
            "perrito\n",
            "patito\n",
            "gatito\n",
            "\n",
            "...\n",
            "Vamos a comprobar si su compra tiene regalo: \n",
            "(El vendedor debe introducir el importe para obtener el regalo el cliente): Me equivoco\n",
            "\n",
            "** Se debe introducir un importe, un número entero sin decimales... \n",
            "\n",
            "** Por favor, vuelva a introducir el importe: \n",
            "\n",
            "(El vendedor debe introducir el importe para obtener el regalo el cliente): 100\n",
            "** Por favor, vuelva a introducir el importe: \n",
            "\n",
            "Introduzca el importe de la compra:Otro error\n",
            "\n",
            "** Se debe introducir un importe, un número entero sin decimales: \n",
            "\n",
            "Introduzca el importe de la compra:250\n",
            "\n",
            "¡...Tiene derecho a regalo...!\n",
            "\n",
            "Indique el regalo elegido: Un oso polar por error\n",
            "\n",
            "No disponemos de ese regalo en stock: \n",
            "Indique el regalo elegido: perrito\n",
            "\n",
            "Cuántos artículos de regalo quiere: cuatro\n",
            "\n",
            "Se debe introducir una cantidad en número entero, por favor:\n",
            "\n",
            "Cuántos artículos de regalo quiere: 4\n",
            "\n",
            "---\n",
            "El importe del regalo es 400\n",
            "\n",
            " ¡Enhorabuena! Le esperamos de nuevo para otra compra...\n"
          ]
        }
      ]
    },
    {
      "cell_type": "markdown",
      "source": [
        "\n",
        "\n",
        "---\n",
        "\n",
        "\n",
        "Copyright 2022. (Instituto tecnológico virtual de la Inteligencia Artificial para el español ™ | © La Biblia de la IA - The Bible of AI ™ ISSN 2695-641\n",
        "\n",
        "## *Fundamentos para la Inteligencia Artificial y el 'Big Data': «Python práctico»*. \n",
        "**DOI: 10.21428/39829d0b.658ba803**"
      ],
      "metadata": {
        "id": "RHsfDxvxLBd4"
      }
    },
    {
      "cell_type": "markdown",
      "source": [
        "**Autor:** Juan Antonio Lloret Egea."
      ],
      "metadata": {
        "id": "hFcu_uoNLDKm"
      }
    },
    {
      "cell_type": "markdown",
      "source": [
        "#Ejercicio de manejo de tipos de datos: diccionarios\n",
        "**Ejercicio 15: «Tienda que regala si alcanzas un importe»**\n",
        "\n",
        "<sub>**BIBLIOGRAFÍA**</sub>\n",
        "\n",
        "<sub> 1.-) [ Python Software Foundation. (s/f). Contenido de la documentación de Python — documentación de Python - 3.10.6. Python.org. Recuperado el 24 de agosto de 2022, de docs.python.org/es/3/contents.htm ]. </sub>\n",
        "\n",
        "<sub> 2.-) [ Programación en Python - Nivel básico — Materiales del entrenamiento de programación en Python - Nivel básico. (s/f). Readthedocs.io. Recuperado el 24 de agosto de 2022, de entrenamiento-python-basico.readthedocs.io/es/latest/index.html ]\n",
        ".</sub>\n",
        "\n",
        "<sub>  3.-) [Muñoz, J. D. (s/f). Python 3 desde cero. Openwebinars.net. Recuperado el 21 de agosto de 2022, de openwebinars.net/academia/portada/python-desde-cero/]\n",
        ".</sub>\n",
        "\n",
        "<sub> 4.-) [ Python getting started. (s/f). W3schools.com. Recuperado el 24 de agosto de 2022, de w3schools.com/python/python_getstarted.asp ]\n",
        ".</sub>\n",
        "\n",
        "<sub> 5.-) [ Python Software Foundation. (s/f-b). El tutorial de Python — documentación de Python - 3.10.6. Python.org. Recuperado el 24 de agosto de 2022, de docs.python.org/es/3/tutorial/ ]\n",
        "</sub>"
      ],
      "metadata": {
        "id": "5y_Y3u1wmGng"
      }
    }
  ]
}