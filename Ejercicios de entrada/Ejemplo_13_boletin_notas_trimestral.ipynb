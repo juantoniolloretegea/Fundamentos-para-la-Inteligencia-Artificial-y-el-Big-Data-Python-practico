{
  "nbformat": 4,
  "nbformat_minor": 0,
  "metadata": {
    "colab": {
      "name": "Ejemplo_13_boletin_notas_trimestral",
      "provenance": [],
      "collapsed_sections": [],
      "mount_file_id": "15GrYOxOodFYmRhNeCJzyfNnrww9QmL42",
      "authorship_tag": "ABX9TyOV9RleQqtFH69sgMVJUkQx",
      "include_colab_link": true
    },
    "kernelspec": {
      "name": "python3",
      "display_name": "Python 3"
    },
    "language_info": {
      "name": "python"
    }
  },
  "cells": [
    {
      "cell_type": "markdown",
      "metadata": {
        "id": "view-in-github",
        "colab_type": "text"
      },
      "source": [
        "<a href=\"https://colab.research.google.com/github/juantoniolloretegea/Fundamentos-para-la-Inteligencia-Artificial-y-el-Big-Data-Python-practico/blob/main/Ejercicios%20de%20entrada/Ejemplo_13_boletin_notas_trimestral.ipynb\" target=\"_parent\"><img src=\"https://colab.research.google.com/assets/colab-badge.svg\" alt=\"Open In Colab\"/></a>"
      ]
    },
    {
      "cell_type": "code",
      "source": [
        "\"\"\" \n",
        "Observación al ejercicio:\n",
        "\n",
        "Vamos a significar que el uso de la función «print()» nos devolverá un salto de línea por defecto normalmente.\n",
        "Véase: https://docs.python.org/es/3/library/functions.html#print.\n",
        "Si queremos evitar este salto, o hacerlo forzado, a continuación ponemos un par de líneas de código.\n",
        "\"\"\"\n",
        "print(\"Hola\\nMundo\")\n",
        "# Nos imprimirá un salto de línea motivado por el '\\n'.\n",
        "\n",
        "print(\"Hola\",end=\" \")\n",
        "# Evitará el salto de línea dejando un espacio al usar 'end=\" \"'.\n",
        "print(\"Mundo\")\n",
        "\n",
        "# En este otro ejemplo evitará el salto de línea e introducirá una coma.\n",
        "for i in range(15):\n",
        "    print(i,end=\",\")"
      ],
      "metadata": {
        "id": "BL1B7cHM_RDY"
      },
      "execution_count": null,
      "outputs": []
    },
    {
      "cell_type": "code",
      "source": [
        "# PROBLEMA A RESOLVER\n",
        "\"\"\" \n",
        "Se requiere realizar un programa que lea por teclado el boletín de notas trimestral obtenidas por un alumno, con puntuaciones entre (0-10).\n",
        "Y se le permite al alumno introducir el número de asignaturas de las que se compone el boletín trimestral, con un máximo de 20 asignaturas.\n",
        "\"\"\" \n",
        "# Proceso:\n",
        "\"\"\"\n",
        "1.-) Se le pedirá al alumno que inserte el número de asignaturas totales.\n",
        "2.-) Se mostrará el boletín de notas en una única fila usando «end=\"\"».\n",
        "3.-) Se calculará la nota media trimestral con las funciones «sum()» y «len()»; la nota más alta con la función «máx()» y la más baja con la funión «min()».\n",
        "Ver funciones en documentación: https://docs.python.org/es/3/library/functions.html.\n",
        "\n",
        "\"\"\"\n",
        "# Creamos una lista vacia.\n",
        "calificaciones = []\n",
        "\n",
        "# Asignamos una variable «num_asignaturas» para el número de asignaturas.\n",
        "# E introducimos un filtro 'while' para que permita un máximo de 20 asignaturas.\n",
        "while True:\n",
        "  num_asignaturas = int(input(\"Inserte el número total de asignaturas:\"))\n",
        "  if num_asignaturas >=0 and num_asignaturas <=20 : break\n",
        "\n",
        "# Efectuamos / iniciamos el bulcle en rango 1, e incrementamos en 1 la variable «num_asignaturas» para ajustar.\n",
        "for i in range(1,num_asignaturas+1):\n",
        "\n",
        "# Introduciremos un filtro del validación 'while' de puntuación para validar que las notas están entre [0-10].\n",
        "\n",
        "  while True:\n",
        "    puntuacion = int(input(\"Introduzca la puntuación de la asignatura Nº%d \" %i +\"=\"))\n",
        "\n",
        "# La referencia de formato '%d' vincula a mostrar el índice en notación decimal.\n",
        "    if puntuacion >=0 and puntuacion <=10: break\n",
        "\n",
        "# Utilizamos el método append() para sumar al último elemento de la lista la entrada por teclado.\n",
        "  calificaciones.append(puntuacion)\n",
        "\n",
        "# Recorremos la lista «calificaciones» para inprimirla. Y las imprimiremos en una misma línea.\n",
        "for j in calificaciones:\n",
        "  print(j, end=\" \")\n",
        "# Insertamos un salto de línea.\n",
        "print(\"\")\n",
        "\n",
        "# Imprimimos la nota media, la mas alta y la más baja.\n",
        "print(\"Nota media del trimestre:\", sum(calificaciones)/len(calificaciones))\n",
        "print (\"Nota más alta obtenida en el trimestre: \", max(calificaciones))\n",
        "print (\"Nota más baja obtenida en el trimestre: \", min(calificaciones))\n",
        "\n",
        "\n",
        "\n"
      ],
      "metadata": {
        "colab": {
          "base_uri": "https://localhost:8080/"
        },
        "outputId": "da0cb623-4b09-46bc-db97-8cf123fa545c",
        "id": "eS7kVCFEtXCi"
      },
      "execution_count": 120,
      "outputs": [
        {
          "output_type": "stream",
          "name": "stdout",
          "text": [
            "Inserte el número total de asignaturas:4\n",
            "Introduzca la puntuación de la asignatura Nº1 =8\n",
            "Introduzca la puntuación de la asignatura Nº2 =6\n",
            "Introduzca la puntuación de la asignatura Nº3 =9\n",
            "Introduzca la puntuación de la asignatura Nº4 =8\n",
            "8 6 9 8 \n",
            "Nota media del trimestre: 7.75\n",
            "Nota más alta obtenida en el trimestre:  9\n",
            "Nota más baja obtenida en el trimestre:  6\n"
          ]
        }
      ]
    },
    {
      "cell_type": "markdown",
      "source": [
        "\n",
        "\n",
        "---\n",
        "\n",
        "\n",
        "Copyright 2022. (Instituto tecnológico virtual de la Inteligencia Artificial para el español ™ | © La Biblia de la IA - The Bible of AI ™ ISSN 2695-641\n",
        "\n",
        "## *Fundamentos para la Inteligencia Artificial y el 'Big Data': «Python práctico»*. \n",
        "**DOI: 10.21428/39829d0b.658ba803**"
      ],
      "metadata": {
        "id": "RHsfDxvxLBd4"
      }
    },
    {
      "cell_type": "markdown",
      "source": [
        "**Autor:** Juan Antonio Lloret Egea."
      ],
      "metadata": {
        "id": "hFcu_uoNLDKm"
      }
    },
    {
      "cell_type": "markdown",
      "source": [
        "#Ejercicio de manejo de tipos de datos: cadenas de caracteres\n",
        "**Ejercicio 12: « Solicitar un texto corto y contar las veces que contiene un carácter.»**\n",
        "\n",
        "<sub>**BIBLIOGRAFÍA**</sub>\n",
        "\n",
        "<sub> 1.-) [ Python Software Foundation. (s/f). Contenido de la documentación de Python — documentación de Python - 3.10.6. Python.org. Recuperado el 24 de agosto de 2022, de docs.python.org/es/3/contents.htm ]. </sub>\n",
        "\n",
        "<sub> 2.-) [ Programación en Python - Nivel básico — Materiales del entrenamiento de programación en Python - Nivel básico. (s/f). Readthedocs.io. Recuperado el 24 de agosto de 2022, de entrenamiento-python-basico.readthedocs.io/es/latest/index.html ]\n",
        ".</sub>\n",
        "\n",
        "<sub>  3.-) [Muñoz, J. D. (s/f). Python 3 desde cero. Openwebinars.net. Recuperado el 21 de agosto de 2022, de openwebinars.net/academia/portada/python-desde-cero/]\n",
        ".</sub>\n",
        "\n",
        "<sub> 4.-) [ Python getting started. (s/f). W3schools.com. Recuperado el 24 de agosto de 2022, de w3schools.com/python/python_getstarted.asp ]\n",
        ".</sub>\n",
        "\n",
        "<sub> 5.-) [ Python Software Foundation. (s/f-b). El tutorial de Python — documentación de Python - 3.10.6. Python.org. Recuperado el 24 de agosto de 2022, de docs.python.org/es/3/tutorial/ ]\n",
        "</sub>"
      ],
      "metadata": {
        "id": "5y_Y3u1wmGng"
      }
    }
  ]
}