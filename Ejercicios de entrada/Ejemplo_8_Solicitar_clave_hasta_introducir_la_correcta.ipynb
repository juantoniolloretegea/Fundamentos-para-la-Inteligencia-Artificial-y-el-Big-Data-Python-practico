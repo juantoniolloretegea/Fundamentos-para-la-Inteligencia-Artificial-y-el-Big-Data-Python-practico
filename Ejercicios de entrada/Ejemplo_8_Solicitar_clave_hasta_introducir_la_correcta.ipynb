{
  "nbformat": 4,
  "nbformat_minor": 0,
  "metadata": {
    "colab": {
      "name": "Ejemplo_8_Solicitar clave hasta introducir la correcta",
      "provenance": [],
      "collapsed_sections": [
        "RHsfDxvxLBd4"
      ],
      "mount_file_id": "15GrYOxOodFYmRhNeCJzyfNnrww9QmL42",
      "authorship_tag": "ABX9TyOOa/mj7Z9pEY6LTAa2sEU6"
    },
    "kernelspec": {
      "name": "python3",
      "display_name": "Python 3"
    },
    "language_info": {
      "name": "python"
    }
  },
  "cells": [
    {
      "cell_type": "markdown",
      "source": [
        "Copyright 2022. (Instituto tecnológico virtual de la Inteligencia Artificial para el español ™ | © La Biblia de la IA - The Bible of AI ™ ISSN 2695-641\n",
        "\n",
        "## *Fundamentos para la Inteligencia Artificial y el 'Big Data': «Python práctico»*. \n",
        "**DOI: 10.21428/39829d0b.658ba803**"
      ],
      "metadata": {
        "id": "RHsfDxvxLBd4"
      }
    },
    {
      "cell_type": "markdown",
      "source": [
        "**Autor:** Juan Antonio Lloret Egea."
      ],
      "metadata": {
        "id": "hFcu_uoNLDKm"
      }
    },
    {
      "cell_type": "markdown",
      "source": [
        "#Ejercicio de estructura de control repetitivas o bucles\n",
        "**Ejercicio 8: «Solicitar clave hasta introducir la correcta»**\n",
        "\n",
        "<sub>**BIBLIOGRAFÍA**</sub>\n",
        "\n",
        "---\n",
        "\n",
        "<sub>[ Muñoz, J. D. (s/f). Python 3 desde cero. Openwebinars.net. Recuperado el 21 de agosto de 2022, de openwebinars.net/academia/portada/python-desde-cero/].</sub>"
      ],
      "metadata": {
        "id": "5y_Y3u1wmGng"
      }
    },
    {
      "cell_type": "code",
      "source": [
        "# La lógica detrás de este código, usando un bucle 'While' (mientras), es estar ejecutándose mientras el usuario no acierte la clave guardada.\n",
        "# Nótese que hacemos sensitiva la entrada diferenciando entre mayúsculas y minúsculas.\n",
        "\n",
        "password = \"Melase\"\n",
        "clave = input (\"Introduzca su clave, por favor: \")\n",
        "\n",
        "# Mientras la clave introducida sea diferente al password guardado, imprimirá que no es correcta.\n",
        "\n",
        "while clave != password :\n",
        "    print(\"La clave es incorrecta, introduzcala de nuevo comprobando mayúsculas y minúsculas...\")\n",
        "    clave = input (\"Introduzca de nuevo su clave, por favor: \")\n",
        "print(\"Entrando al sistema:...\")\n",
        "\n"
      ],
      "metadata": {
        "id": "ABxSAHsEYjhw"
      },
      "execution_count": null,
      "outputs": []
    }
  ]
}