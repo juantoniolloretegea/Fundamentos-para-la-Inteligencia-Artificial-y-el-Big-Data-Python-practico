{
  "nbformat": 4,
  "nbformat_minor": 0,
  "metadata": {
    "colab": {
      "name": "Ejemplo_13_Acciones_basicas_listas",
      "provenance": [],
      "collapsed_sections": [],
      "mount_file_id": "15GrYOxOodFYmRhNeCJzyfNnrww9QmL42",
      "authorship_tag": "ABX9TyOW0wRfLezh3ROn9/VeLmQL"
    },
    "kernelspec": {
      "name": "python3",
      "display_name": "Python 3"
    },
    "language_info": {
      "name": "python"
    }
  },
  "cells": [
    {
      "cell_type": "code",
      "source": [
        "# Las listas, en cierta manera, sustituyen a los 'arrays' en la programación tradicional. Ciertamente herméticos y estáticos. Poco flexibles.\n",
        "# Las listas, a diferencia de los 'arrays', admiten distintos tipos de datos a la vez (son heterogéneas). Son dinámicas y mutables.\n",
        "# Las listas, al ser tipos de de datos secuenciales, pueden recorrerse y otras operaciones aplicables a este tipo de datos.\n",
        "# Se recomienda visualizar la documentación de Python para saber más sobre listas. \n",
        "# URL: https://docs.python.org/es/3/tutorial/datastructures.html\n",
        "\n",
        "lista_general_heterogenea = [1,2,3,\"a\",\"b\",\"c\", True, False]\n",
        "for j in lista_general_heterogenea:\n",
        "  print(j)\n",
        "\n",
        "#La variable «j» recorre el bucle.\n",
        "\n",
        "print(\"-------------------------------------------------------------------------\")\n",
        "\n",
        "# Veamos como construir un ¿array de 6 x 2? con una lista mediante la función 'zip ()'. \n",
        "# ver https://docs.python.org/es/3/tutorial/datastructures.html\n",
        "# Vamos a crear otra lista que case términos con otra lista que crearemos ahora.\n",
        "\n",
        "lista_secundaria_homogenea = [\"α\",\"β\",\"γ\",\"δ\",\"ε\",\"ζ\",\"η\",\" θ\"]\n",
        "\n",
        "for j,i in zip(lista_general_heterogenea,lista_secundaria_homogenea):\n",
        "  print (j,i)\n",
        "\n",
        "# La variable «i» recorre el segundo bucle\n",
        "\n",
        "print (\"----------------------------------------------------------------------\")\n",
        "\n",
        "# Podemos usar los operadores de pertenencia al igual que en las cadenas de caracteres.\n",
        "\n",
        "print (4 in lista_general_heterogenea)\n",
        "\n",
        "print (\"----------------------------------------------------------------------\")\n",
        "\n",
        "# Concatener dos listas sin modificar la primigenia.\n",
        "\n",
        "print(lista_general_heterogenea + [4,5,6,\"d\",\"e\",\"f\",\"g\"])\n",
        "print(lista_general_heterogenea)\n",
        "\n",
        "print (\"----------------------------------------------------------------------\")\n",
        "\n",
        "# Podemos repetir (duplicar) una lista\n",
        "\n",
        "print(lista_general_heterogenea * 2)\n",
        "\n",
        "print (\"----------------------------------------------------------------------\")\n",
        "\n",
        "\n",
        "\n",
        "\n"
      ],
      "metadata": {
        "id": "BL1B7cHM_RDY"
      },
      "execution_count": null,
      "outputs": []
    },
    {
      "cell_type": "markdown",
      "source": [
        "\n",
        "\n",
        "---\n",
        "\n",
        "\n",
        "Copyright 2022. (Instituto tecnológico virtual de la Inteligencia Artificial para el español ™ | © La Biblia de la IA - The Bible of AI ™ ISSN 2695-641\n",
        "\n",
        "## *Fundamentos para la Inteligencia Artificial y el 'Big Data': «Python práctico»*. \n",
        "**DOI: 10.21428/39829d0b.658ba803**"
      ],
      "metadata": {
        "id": "RHsfDxvxLBd4"
      }
    },
    {
      "cell_type": "markdown",
      "source": [
        "**Autor:** Juan Antonio Lloret Egea."
      ],
      "metadata": {
        "id": "hFcu_uoNLDKm"
      }
    },
    {
      "cell_type": "markdown",
      "source": [
        "#Ejercicio de manejo de tipos de datos: listas\n",
        "**Ejercicio 13: «Acciones básicas con listas .»**\n",
        "\n",
        "<sub>**BIBLIOGRAFÍA**</sub>\n",
        "\n",
        "<sub> 1.-) [ Python Software Foundation. (s/f). Contenido de la documentación de Python — documentación de Python - 3.10.6. Python.org. Recuperado el 24 de agosto de 2022, de docs.python.org/es/3/contents.htm ]. </sub>\n",
        "\n",
        "<sub> 2.-) [ Programación en Python - Nivel básico — Materiales del entrenamiento de programación en Python - Nivel básico. (s/f). Readthedocs.io. Recuperado el 24 de agosto de 2022, de entrenamiento-python-basico.readthedocs.io/es/latest/index.html ]\n",
        ".</sub>\n",
        "\n",
        "<sub>  3.-) [Muñoz, J. D. (s/f). Python 3 desde cero. Openwebinars.net. Recuperado el 21 de agosto de 2022, de openwebinars.net/academia/portada/python-desde-cero/]\n",
        ".</sub>\n",
        "\n",
        "<sub> 4.-) [ Python getting started. (s/f). W3schools.com. Recuperado el 24 de agosto de 2022, de w3schools.com/python/python_getstarted.asp ]\n",
        ".</sub>\n",
        "\n",
        "<sub> 5.-) [ Python Software Foundation. (s/f-b). El tutorial de Python — documentación de Python - 3.10.6. Python.org. Recuperado el 24 de agosto de 2022, de docs.python.org/es/3/tutorial/ ]\n",
        "</sub>\n",
        "\n",
        "\n"
      ],
      "metadata": {
        "id": "5y_Y3u1wmGng"
      }
    }
  ]
}