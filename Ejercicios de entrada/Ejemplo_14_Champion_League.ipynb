{
  "nbformat": 4,
  "nbformat_minor": 0,
  "metadata": {
    "colab": {
      "name": "Ejemplo_14_Champion_League",
      "provenance": [],
      "collapsed_sections": [],
      "mount_file_id": "15GrYOxOodFYmRhNeCJzyfNnrww9QmL42",
      "authorship_tag": "ABX9TyM4H4ogQcwYKDJECMqkn90m",
      "include_colab_link": true
    },
    "kernelspec": {
      "name": "python3",
      "display_name": "Python 3"
    },
    "language_info": {
      "name": "python"
    }
  },
  "cells": [
    {
      "cell_type": "markdown",
      "metadata": {
        "id": "view-in-github",
        "colab_type": "text"
      },
      "source": [
        "<a href=\"https://colab.research.google.com/github/juantoniolloretegea/Fundamentos-para-la-Inteligencia-Artificial-y-el-Big-Data-Python-practico/blob/main/Ejercicios%20de%20entrada/Ejemplo_14_Champion_League.ipynb\" target=\"_parent\"><img src=\"https://colab.research.google.com/assets/colab-badge.svg\" alt=\"Open In Colab\"/></a>"
      ]
    },
    {
      "cell_type": "markdown",
      "source": [
        "#Champion League: Cuartos de Final\n",
        "Una casa de apuestas nos ha solicitado un programa que permita que los usuarios pronostiquen los Cuartos de Final de la Champion League. Para ello, el usuario deberá indicar cuáles son para él los equipos que llegarán a esta ronda de clasificación, cuántos goles marcará cada equipo y... Entregar su boleto ganador de apuestas."
      ],
      "metadata": {
        "id": "TQDdX4pimKUu"
      }
    },
    {
      "cell_type": "code",
      "source": [
        "# PROCESO\n",
        "\"\"\"\n",
        "1.-) Vamos a usar dos listas globales, a modo de tablas (2X2), sincronizadas con la función «zip()». Lista de listas concatenadas.\n",
        "   (Ver resultado abajo).\n",
        "\n",
        "2.- Recogeremos los resultados de emparejamientos en otras dos listas temporales, de una única columna. Con la última entrada. \n",
        "   (Ver resultado abajo).\n",
        "\n",
        "3.-) Usaremos formato de caracteres: \n",
        "\n",
        "   3.1.-) %d («Decimal entero. retorna el número en base 10»).\n",
        "   3.2.-) $s («Formato de cadena de caracteres. Éste es el tipo por defecto y puede ser omitido»).\n",
        "\n",
        "* Se recomienda mirar en la documentación de Python los tipos de presentación: string — Operaciones comunes de cadena de caracteres.\n",
        "URL: https://docs.python.org/es/3/library/string.html?highlight=string%20formatting\n",
        "\n",
        "4.-) Fijamos la variable «enfrentamientos» a valor = 4 (significa 8 equipos). Y ajustamos en ésta el rango del bucle que recorre la variable.\n",
        "\n",
        "\"\"\""
      ],
      "metadata": {
        "id": "SihxgfTQnsw8"
      },
      "execution_count": null,
      "outputs": []
    },
    {
      "cell_type": "code",
      "source": [
        "enfrentamientos = 4\n",
        "denominacion_equipos = []\n",
        "marcadores_equipos = []\n",
        "\n",
        "print(\"Pronóstico para la Champión League\")\n",
        "print(\"----------------------------------\")\n",
        "print()\n",
        "\n",
        "for i in range(1,enfrentamientos+1):\n",
        "  match = []\n",
        "  print(\"\")\n",
        "  match.append(input(\"Emparejamiento %d: \" %i + \"Denominación del equipo local: \"))\n",
        "  match.append(input(\"Emparejamiento %d: \" %i + \"Denominación del equipo visitante: \"))\n",
        "  denominacion_equipos.append(match)\n",
        " # print (\"...\")\n",
        "\n",
        "  marcadores = []\n",
        "  marcadores.append(int(input(\"Goles del equipo local -  %s:\" % (match[0]))))\n",
        "  marcadores.append(int(input(\"Goles del equipo visitante -  %s:\" % (match[1]))))\n",
        "  marcadores_equipos.append(marcadores)\n",
        "  print(\"\")\n",
        "for match,marcadores in zip(denominacion_equipos,marcadores_equipos):\n",
        "  print(match[0],\"-\",match[1],\":\",end=\"\")\n",
        "  if marcadores[0] > marcadores[1]:\n",
        "      print(\"1\")\n",
        "  else:\n",
        "    if marcadores[0] < marcadores[1]:\n",
        "      print(\"2\")\n",
        "    else:\n",
        "        print(\"X\")\n",
        "print(\"\")\n",
        "print(\"Fin del boleto de resultados para apostar\")\n",
        "print(\"-----------\")\n",
        "print(\"\")\n",
        "\n",
        "print(\"Así quedan cargadas las tablas (2X2) después de que el usuario introdujese los datos\")\n",
        "\n",
        "print(denominacion_equipos)\n",
        "print(marcadores_equipos)\n",
        "\n",
        "print(\"-----------\")\n",
        "print(\"\")\n",
        "\n",
        "print (\"Y así quedan cargadas las listas temporales (1x1)\")\n",
        "print(match)\n",
        "print(marcadores)\n"
      ],
      "metadata": {
        "colab": {
          "base_uri": "https://localhost:8080/"
        },
        "id": "uO2EVqk7arVe",
        "outputId": "0afc5507-e859-4fac-f0ae-42ed331cafde"
      },
      "execution_count": 7,
      "outputs": [
        {
          "output_type": "stream",
          "name": "stdout",
          "text": [
            "Pronóstico para la Champión League\n",
            "----------------------------------\n",
            "\n",
            "\n",
            "Emparejamiento 1: Denominación del equipo local: Benfica\n",
            "Emparejamiento 1: Denominación del equipo visitante: Liverpool\n",
            "Goles del equipo local -  Benfica:1\n",
            "Goles del equipo visitante -  Liverpool:3\n",
            "\n",
            "\n",
            "Emparejamiento 2: Denominación del equipo local: M. City\n",
            "Emparejamiento 2: Denominación del equipo visitante: Atlético\n",
            "Goles del equipo local -  M. City:1\n",
            "Goles del equipo visitante -  Atlético:0\n",
            "\n",
            "\n",
            "Emparejamiento 3: Denominación del equipo local: Chelsea\n",
            "Emparejamiento 3: Denominación del equipo visitante: Real Madrid\n",
            "Goles del equipo local -  Chelsea:1\n",
            "Goles del equipo visitante -  Real Madrid:3\n",
            "\n",
            "\n",
            "Emparejamiento 4: Denominación del equipo local: Villareal\n",
            "Emparejamiento 4: Denominación del equipo visitante: Bayern Múnich\n",
            "Goles del equipo local -  Villareal:1\n",
            "Goles del equipo visitante -  Bayern Múnich:0\n",
            "\n",
            "Benfica - Liverpool :2\n",
            "M. City - Atlético :1\n",
            "Chelsea - Real Madrid :2\n",
            "Villareal - Bayern Múnich :1\n",
            "\n",
            "Fin del boleto de resultados para apostar\n",
            "-----------\n",
            "\n",
            "Así quedan cargadas las tablas (2X2) después de que el usuario introdujese los datos\n",
            "[['Benfica', 'Liverpool'], ['M. City', 'Atlético'], ['Chelsea', 'Real Madrid'], ['Villareal', 'Bayern Múnich']]\n",
            "[[1, 3], [1, 0], [1, 3], [1, 0]]\n",
            "-----------\n",
            "\n",
            "Y así quedan cargadas las listas temporales (1x1)\n",
            "['Villareal', 'Bayern Múnich']\n",
            "[1, 0]\n"
          ]
        }
      ]
    },
    {
      "cell_type": "markdown",
      "source": [
        "\n",
        "\n",
        "---\n",
        "\n",
        "\n",
        "Copyright 2022. (Instituto tecnológico virtual de la Inteligencia Artificial para el español ™ | © La Biblia de la IA - The Bible of AI ™ ISSN 2695-641\n",
        "\n",
        "## *Fundamentos para la Inteligencia Artificial y el 'Big Data': «Python práctico»*. \n",
        "**DOI: 10.21428/39829d0b.658ba803**"
      ],
      "metadata": {
        "id": "RHsfDxvxLBd4"
      }
    },
    {
      "cell_type": "markdown",
      "source": [
        "**Autor:** Juan Antonio Lloret Egea."
      ],
      "metadata": {
        "id": "hFcu_uoNLDKm"
      }
    },
    {
      "cell_type": "markdown",
      "source": [
        "#Ejercicio de manejo de tipos de datos: listas\n",
        "**Ejercicio 14: «Champion League»**\n",
        "\n",
        "<sub>**BIBLIOGRAFÍA**</sub>\n",
        "\n",
        "<sub> 1.-) [ Python Software Foundation. (s/f). Contenido de la documentación de Python — documentación de Python - 3.10.6. Python.org. Recuperado el 24 de agosto de 2022, de docs.python.org/es/3/contents.htm ]. </sub>\n",
        "\n",
        "<sub> 2.-) [ Programación en Python - Nivel básico — Materiales del entrenamiento de programación en Python - Nivel básico. (s/f). Readthedocs.io. Recuperado el 24 de agosto de 2022, de entrenamiento-python-basico.readthedocs.io/es/latest/index.html ]\n",
        ".</sub>\n",
        "\n",
        "<sub>  3.-) [Muñoz, J. D. (s/f). Python 3 desde cero. Openwebinars.net. Recuperado el 21 de agosto de 2022, de openwebinars.net/academia/portada/python-desde-cero/]\n",
        ".</sub>\n",
        "\n",
        "<sub> 4.-) [ Python getting started. (s/f). W3schools.com. Recuperado el 24 de agosto de 2022, de w3schools.com/python/python_getstarted.asp ]\n",
        ".</sub>\n",
        "\n",
        "<sub> 5.-) [ Python Software Foundation. (s/f-b). El tutorial de Python — documentación de Python - 3.10.6. Python.org. Recuperado el 24 de agosto de 2022, de docs.python.org/es/3/tutorial/ ]\n",
        "</sub>"
      ],
      "metadata": {
        "id": "5y_Y3u1wmGng"
      }
    }
  ]
}