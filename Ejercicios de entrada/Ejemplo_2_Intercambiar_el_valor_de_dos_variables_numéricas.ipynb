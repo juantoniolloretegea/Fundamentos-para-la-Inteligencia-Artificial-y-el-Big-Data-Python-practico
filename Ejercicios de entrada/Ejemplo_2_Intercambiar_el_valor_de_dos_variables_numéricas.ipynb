{
  "nbformat": 4,
  "nbformat_minor": 0,
  "metadata": {
    "colab": {
      "name": "Ejemplo_2_Intercambiar el valor de dos variables numéricas",
      "provenance": [],
      "collapsed_sections": [],
      "mount_file_id": "15GrYOxOodFYmRhNeCJzyfNnrww9QmL42",
      "authorship_tag": "ABX9TyN9inO8zcDXVG9v6fp/XeX6"
    },
    "kernelspec": {
      "name": "python3",
      "display_name": "Python 3"
    },
    "language_info": {
      "name": "python"
    }
  },
  "cells": [
    {
      "cell_type": "markdown",
      "source": [
        "Copyright 2022. (Instituto tecnológico virtual de la Inteligencia Artificial para el español ™ | © La Biblia de la IA - The Bible of AI ™ ISSN 2695-641\n",
        "\n",
        "## *Fundamentos para la Inteligencia Artificial y el 'Big Data': «Python práctico»*. \n",
        "**DOI: 10.21428/39829d0b.658ba803**"
      ],
      "metadata": {
        "id": "RHsfDxvxLBd4"
      }
    },
    {
      "cell_type": "markdown",
      "source": [
        "**Autor:** Juan Antonio Lloret Egea."
      ],
      "metadata": {
        "id": "hFcu_uoNLDKm"
      }
    },
    {
      "cell_type": "markdown",
      "source": [
        "#Ejercicio de estructura secuencial\n",
        "**Ejercicio 2: «Intercambiar el valor de dos variables numéricas»**\n",
        "\n",
        "<sub>**BIBLIOGRAFÍA**</sub>\n",
        "\n",
        "---\n",
        "\n",
        "<sub>[ Muñoz, J. D. (s/f). Python 3 desde cero. Openwebinars.net. Recuperado el 21 de agosto de 2022, de openwebinars.net/academia/portada/python-desde-cero/].</sub>\n"
      ],
      "metadata": {
        "id": "wCWxtDg4nOvp"
      }
    },
    {
      "cell_type": "code",
      "source": [
        "#En la captura por teclado siguiente, además, convertimos a número real las entradas\n",
        "\n",
        "a = float(input(\"Introduzca el valor de A:\"))\n",
        "b = float(input(\"Introduzca el valor de B:\"))\n",
        "\n",
        "#Almacenamos el valor de la variable «a» en la variable «temporal», para luego pasárselo a la variable «b»\n",
        "temporal = a\n",
        "\n",
        "#En el siguiente paso intercambiamos el valor de la variable «b» a la variable «a»\n",
        "a = b\n",
        "\n",
        "#Recuperamos el valor primitivo de la variable «a» y lo intercambiamos con «b»\n",
        "\n",
        "b = temporal\n",
        "\n",
        "print(\"Valor intercambiado de A:\", a)"
      ],
      "metadata": {
        "id": "_TXJXmu3j03j"
      },
      "execution_count": null,
      "outputs": []
    }
  ]
}
