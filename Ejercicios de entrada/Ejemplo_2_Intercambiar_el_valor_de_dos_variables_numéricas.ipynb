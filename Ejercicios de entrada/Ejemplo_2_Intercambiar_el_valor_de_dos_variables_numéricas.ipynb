{
  "nbformat": 4,
  "nbformat_minor": 0,
  "metadata": {
    "colab": {
      "name": "Ejemplo_2_Intercambiar el valor de dos variables numéricas",
      "provenance": [],
      "collapsed_sections": [],
      "mount_file_id": "15GrYOxOodFYmRhNeCJzyfNnrww9QmL42",
      "authorship_tag": "ABX9TyOgyHaNwHk/5IJ/O+wGr1Xy"
    },
    "kernelspec": {
      "name": "python3",
      "display_name": "Python 3"
    },
    "language_info": {
      "name": "python"
    }
  },
  "cells": [
    {
      "cell_type": "markdown",
      "source": [
        "Copyright 2022. (Instituto tecnológico virtual de la Inteligencia Artificial para el español ™ | © La Biblia de la IA - The Bible of AI ™ ISSN 2695-641\n",
        "\n",
        "## *Fundamentos para la Inteligencia Artificial y el 'Big Data': «Python práctico»*. \n",
        "**DOI: 10.21428/39829d0b.658ba803**"
      ],
      "metadata": {
        "id": "RHsfDxvxLBd4"
      }
    },
    {
      "cell_type": "markdown",
      "source": [
        "**Autor:** Juan Antonio Lloret Egea."
      ],
      "metadata": {
        "id": "hFcu_uoNLDKm"
      }
    },
    {
      "cell_type": "markdown",
      "source": [
        "#Ejercicio de estructura secuencial\n",
        "**Ejercicio 2: «Intercambiar el valor de dos variables numéricas»**\n",
        "\n",
        "<sub>**BIBLIOGRAFÍA**</sub>\n",
        "\n",
        "<sub> 1.-) [ Python Software Foundation. (s/f). Contenido de la documentación de Python — documentación de Python - 3.10.6. Python.org. Recuperado el 24 de agosto de 2022, de docs.python.org/es/3/contents.htm ]. </sub>\n",
        "\n",
        "<sub> 2.-) [ Programación en Python - Nivel básico — Materiales del entrenamiento de programación en Python - Nivel básico. (s/f). Readthedocs.io. Recuperado el 24 de agosto de 2022, de entrenamiento-python-basico.readthedocs.io/es/latest/index.html ]\n",
        ".</sub>\n",
        "\n",
        "<sub>  3.-) [Muñoz, J. D. (s/f). Python 3 desde cero. Openwebinars.net. Recuperado el 21 de agosto de 2022, de openwebinars.net/academia/portada/python-desde-cero/]\n",
        ".</sub>\n",
        "\n",
        "<sub> 4.-) [ Python getting started. (s/f). W3schools.com. Recuperado el 24 de agosto de 2022, de w3schools.com/python/python_getstarted.asp ]\n",
        ".</sub>\n",
        "\n",
        "<sub> 5.-) [ Python Software Foundation. (s/f-b). El tutorial de Python — documentación de Python - 3.10.6. Python.org. Recuperado el 24 de agosto de 2022, de docs.python.org/es/3/tutorial/ ]\n",
        "</sub>"
      ],
      "metadata": {
        "id": "wCWxtDg4nOvp"
      }
    },
    {
      "cell_type": "code",
      "source": [
        "#En la captura por teclado siguiente, además, convertimos a número real las entradas\n",
        "\n",
        "a = float(input(\"Introduzca el valor de A:\"))\n",
        "b = float(input(\"Introduzca el valor de B:\"))\n",
        "\n",
        "#Almacenamos el valor de la variable «a» en la variable «temporal», para luego pasárselo a la variable «b»\n",
        "temporal = a\n",
        "\n",
        "#En el siguiente paso intercambiamos el valor de la variable «b» a la variable «a»\n",
        "a = b\n",
        "\n",
        "#Recuperamos el valor primitivo de la variable «a» y lo intercambiamos con «b»\n",
        "\n",
        "b = temporal\n",
        "\n",
        "print(\"Valor intercambiado de A:\", a)"
      ],
      "metadata": {
        "id": "_TXJXmu3j03j"
      },
      "execution_count": null,
      "outputs": []
    }
  ]
}