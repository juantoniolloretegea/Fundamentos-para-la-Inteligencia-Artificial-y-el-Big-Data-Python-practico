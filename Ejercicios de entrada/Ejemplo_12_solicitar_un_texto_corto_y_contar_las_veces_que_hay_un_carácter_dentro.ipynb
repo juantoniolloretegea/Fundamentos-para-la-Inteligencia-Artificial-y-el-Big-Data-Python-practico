{
  "nbformat": 4,
  "nbformat_minor": 0,
  "metadata": {
    "colab": {
      "name": "Ejemplo_12_solicitar un texto corto y contar las veces que hay un carácter dentro",
      "provenance": [],
      "collapsed_sections": [],
      "mount_file_id": "15GrYOxOodFYmRhNeCJzyfNnrww9QmL42",
      "authorship_tag": "ABX9TyNBhcRP8UqTz6GfjnoZQFS6"
    },
    "kernelspec": {
      "name": "python3",
      "display_name": "Python 3"
    },
    "language_info": {
      "name": "python"
    }
  },
  "cells": [
    {
      "cell_type": "markdown",
      "source": [
        "Copyright 2022. (Instituto tecnológico virtual de la Inteligencia Artificial para el español ™ | © La Biblia de la IA - The Bible of AI ™ ISSN 2695-641\n",
        "\n",
        "## *Fundamentos para la Inteligencia Artificial y el 'Big Data': «Python práctico»*. \n",
        "**DOI: 10.21428/39829d0b.658ba803**"
      ],
      "metadata": {
        "id": "RHsfDxvxLBd4"
      }
    },
    {
      "cell_type": "markdown",
      "source": [
        "**Autor:** Juan Antonio Lloret Egea."
      ],
      "metadata": {
        "id": "hFcu_uoNLDKm"
      }
    },
    {
      "cell_type": "markdown",
      "source": [
        "#Ejercicio de manejo de tipos de datos: cadenas de caracteres\n",
        "**Ejercicio 12: « Solicitar un texto corto y contar las veces que contiene un carácter.»**\n",
        "\n",
        "<sub>**BIBLIOGRAFÍA**</sub>\n",
        "\n",
        "---\n",
        "\n",
        "<sub>[ Muñoz, J. D. (s/f). Python 3 desde cero. Openwebinars.net. Recuperado el 21 de agosto de 2022, de openwebinars.net/academia/portada/python-desde-cero/].</sub>"
      ],
      "metadata": {
        "id": "5y_Y3u1wmGng"
      }
    },
    {
      "cell_type": "code",
      "source": [
        "\"\"\" Utilizaremos el método count() para hacer el conteo total de las veces que aparece el carácter.\n",
        "Se recomienda visualizar en el tutorial de Python «Estructuras de datos» : https://docs.python.org/es/3/tutorial/datastructures.html\"\"\"\n",
        "\n",
        "\n",
        "texto = input(\"Introduzca unas palabras o una frase corta:\")\n",
        "\n",
        "\n",
        "while True:\n",
        "  caracter = input(\"Inserte un único carácter para contar las veces que aparece éste (distingue mayúscula / minúsculas y acentos):\")\n",
        "  if len (caracter) == 1: break\n",
        "\n",
        "# Si el usuario introduce más de un corácter el bucle continuará hasta que lo haga e introduzca sólo 1.\n",
        "\n",
        "print(\"En el texto introducido:---\", texto, \"---- hay\", texto.count(caracter), \"coincidencias con el carácter seleccionado:\", caracter) \n"
      ],
      "metadata": {
        "id": "BL1B7cHM_RDY"
      },
      "execution_count": null,
      "outputs": []
    }
  ]
}