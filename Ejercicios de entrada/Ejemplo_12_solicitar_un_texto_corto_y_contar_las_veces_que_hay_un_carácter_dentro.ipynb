{
  "nbformat": 4,
  "nbformat_minor": 0,
  "metadata": {
    "colab": {
      "name": "Ejemplo_12_solicitar un texto corto y contar las veces que hay un carácter dentro",
      "provenance": [],
      "collapsed_sections": [],
      "mount_file_id": "15GrYOxOodFYmRhNeCJzyfNnrww9QmL42",
      "authorship_tag": "ABX9TyOHahGr6iD+J2WYUfTUo3ve"
    },
    "kernelspec": {
      "name": "python3",
      "display_name": "Python 3"
    },
    "language_info": {
      "name": "python"
    }
  },
  "cells": [
    {
      "cell_type": "code",
      "source": [
        "\"\"\" Utilizaremos el método count() para hacer el conteo total de las veces que aparece el carácter.\n",
        "Se recomienda visualizar en el tutorial de Python «Estructuras de datos» : https://docs.python.org/es/3/tutorial/datastructures.html\"\"\"\n",
        "\n",
        "\n",
        "texto = input(\"Introduzca unas palabras o una frase corta:\")\n",
        "\n",
        "\n",
        "while True:\n",
        "  caracter = input(\"Inserte un único carácter para contar las veces que aparece éste (distingue mayúscula / minúsculas y acentos):\")\n",
        "  if len (caracter) == 1: \n",
        "    break\n",
        "\n",
        "# Si el usuario introduce más de un corácter el bucle continuará hasta que lo haga e introduzca sólo 1.\n",
        "\n",
        "print(\"En el texto introducido:---\", texto, \"---- hay\", texto.count(caracter), \"coincidencias con el carácter seleccionado:\", caracter) \n"
      ],
      "metadata": {
        "colab": {
          "base_uri": "https://localhost:8080/"
        },
        "id": "BL1B7cHM_RDY",
        "outputId": "f58e5401-9a97-4d87-d84e-9d0b5351efe8"
      },
      "execution_count": null,
      "outputs": [
        {
          "output_type": "stream",
          "name": "stdout",
          "text": [
            "Introduzca unas palabras o una frase corta:Pedro es un hombre muy robusto\n",
            "Inserte un único carácter para contar las veces que aparece éste (distingue mayúscula / minúsculas y acentos):o\n",
            "En el texto introducido:--- Pedro es un hombre muy robusto ---- hay 4 coincidencias con el carácter seleccionado: o\n"
          ]
        }
      ]
    },
    {
      "cell_type": "markdown",
      "source": [
        "\n",
        "\n",
        "---\n",
        "\n",
        "\n",
        "Copyright 2022. (Instituto tecnológico virtual de la Inteligencia Artificial para el español ™ | © La Biblia de la IA - The Bible of AI ™ ISSN 2695-641\n",
        "\n",
        "## *Fundamentos para la Inteligencia Artificial y el 'Big Data': «Python práctico»*. \n",
        "**DOI: 10.21428/39829d0b.658ba803**"
      ],
      "metadata": {
        "id": "RHsfDxvxLBd4"
      }
    },
    {
      "cell_type": "markdown",
      "source": [
        "**Autor:** Juan Antonio Lloret Egea."
      ],
      "metadata": {
        "id": "hFcu_uoNLDKm"
      }
    },
    {
      "cell_type": "markdown",
      "source": [
        "#Ejercicio de manejo de tipos de datos: cadenas de caracteres\n",
        "**Ejercicio 12: « Solicitar un texto corto y contar las veces que contiene un carácter.»**\n",
        "\n",
        "<sub>**BIBLIOGRAFÍA**</sub>\n",
        "\n",
        "<sub> 1.-) [ Python Software Foundation. (s/f). Contenido de la documentación de Python — documentación de Python - 3.10.6. Python.org. Recuperado el 24 de agosto de 2022, de docs.python.org/es/3/contents.htm ]. </sub>\n",
        "\n",
        "<sub> 2.-) [ Programación en Python - Nivel básico — Materiales del entrenamiento de programación en Python - Nivel básico. (s/f). Readthedocs.io. Recuperado el 24 de agosto de 2022, de entrenamiento-python-basico.readthedocs.io/es/latest/index.html ]\n",
        ".</sub>\n",
        "\n",
        "<sub>  3.-) [Muñoz, J. D. (s/f). Python 3 desde cero. Openwebinars.net. Recuperado el 21 de agosto de 2022, de openwebinars.net/academia/portada/python-desde-cero/]\n",
        ".</sub>\n",
        "\n",
        "<sub> 4.-) [ Python getting started. (s/f). W3schools.com. Recuperado el 24 de agosto de 2022, de w3schools.com/python/python_getstarted.asp ]\n",
        ".</sub>\n",
        "\n",
        "<sub> 5.-) [ Python Software Foundation. (s/f-b). El tutorial de Python — documentación de Python - 3.10.6. Python.org. Recuperado el 24 de agosto de 2022, de docs.python.org/es/3/tutorial/ ]\n",
        "</sub>"
      ],
      "metadata": {
        "id": "5y_Y3u1wmGng"
      }
    }
  ]
}