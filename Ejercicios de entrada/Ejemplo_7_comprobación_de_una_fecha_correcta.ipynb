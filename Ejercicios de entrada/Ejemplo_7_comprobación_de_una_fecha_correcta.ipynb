{
  "nbformat": 4,
  "nbformat_minor": 0,
  "metadata": {
    "colab": {
      "name": "Ejemplo_7_comprobación de una fecha correcta",
      "provenance": [],
      "collapsed_sections": [
        "RHsfDxvxLBd4"
      ],
      "mount_file_id": "15GrYOxOodFYmRhNeCJzyfNnrww9QmL42",
      "authorship_tag": "ABX9TyNSQc6Q2aNgwVKuXylHQvFB"
    },
    "kernelspec": {
      "name": "python3",
      "display_name": "Python 3"
    },
    "language_info": {
      "name": "python"
    }
  },
  "cells": [
    {
      "cell_type": "markdown",
      "source": [
        "Copyright 2022. (Instituto tecnológico virtual de la Inteligencia Artificial para el español ™ | © La Biblia de la IA - The Bible of AI ™ ISSN 2695-641\n",
        "\n",
        "## *Fundamentos para la Inteligencia Artificial y el 'Big Data': «Python práctico»*. \n",
        "**DOI: 10.21428/39829d0b.658ba803**"
      ],
      "metadata": {
        "id": "RHsfDxvxLBd4"
      }
    },
    {
      "cell_type": "markdown",
      "source": [
        "**Autor:** Juan Antonio Lloret Egea."
      ],
      "metadata": {
        "id": "hFcu_uoNLDKm"
      }
    },
    {
      "cell_type": "markdown",
      "source": [
        "#Ejercicio de estructura de control alternativo múltiple\n",
        "**Ejercicio 7: «Comprobación de fecha correcta con operadores relacionales»**\n",
        "\n",
        "<sub>**BIBLIOGRAFÍA**</sub>\n",
        "\n",
        "---\n",
        "\n",
        "<sub>[ Muñoz, J. D. (s/f). Python 3 desde cero. Openwebinars.net. Recuperado el 21 de agosto de 2022, de openwebinars.net/academia/portada/python-desde-cero/].</sub>"
      ],
      "metadata": {
        "id": "5y_Y3u1wmGng"
      }
    },
    {
      "cell_type": "code",
      "source": [
        "\"\"\" Una fecha correcta sería aquella que cumple que los días correspondientes a cada mes del año están así definidos.\n",
        "A saber: \n",
        "1.-) Tienen 31 días los meses (1, 3, 5, 7, 8, 10 y 12). \n",
        "2.-) Tienen 30 días los meses (4, 6, 9 y 11). 3.). \n",
        "\n",
        "3.-) Febrero es bisiesto si es divisible entre 4. Pero no es bisiesto si sólo es divisible entre 100. Pero sí es bisiesto si es divisible entre 400.\n",
        "  Se recomienda visualizar las entradas de wikipedia que aclaran esta lógica: \n",
        "  (Día bisiesto): https://es.wikipedia.org/wiki/A%C3%B1o_bisiesto,\n",
        "  (Operación módulo): https://bit.ly/3wllJbL \"\"\"\n",
        "\n",
        "# No se asombre el lector de cómo se ha programado esta solución... Bienvenido a la lógica de programación. ¿Divertida?\n",
        "# Juegan un papel relevante aquí los días del mes, y el año se usa para el chequeo de si es bisiesto o no y contar 28 ó 29 días.\n",
        "\n",
        "\n",
        "# Capturamos por consola la fecha, para ello cogemos atomizadas las entradas como números enteros.\n",
        "\n",
        "ano = int(input(\"Introduzca el año: \"))\n",
        "mes = int(input(\"Introduzca el mes: \"))\n",
        "dia = int(input(\"Introduzca el día: \"))\n",
        "\n",
        "if mes == 1 or mes == 3 or mes == 5 or mes == 7 or mes == 8 or mes == 10 or mes ==12:\n",
        "  dias_mes = 31\n",
        "elif mes == 4 or mes == 6 or mes == 9 or mes == 11:\n",
        "  dias_mes = 30\n",
        "elif mes == 2:\n",
        "  \n",
        "  # ano % 4 en el siguiente algoritmo nos devolverá el resto de la división\n",
        "\n",
        "    if ((ano % 4 == 0) and not (ano % 100 == 0)) or (ano % 400 == 0):\n",
        "      dias_mes = 29\n",
        "    else:\n",
        "      dias_mes = 28\n",
        "\n",
        "if dia < 0 or dia > dias_mes:\n",
        "  print(\"La fecha introducida no es correcta: \")\n",
        "else:\n",
        "  print(\"La fecha introducida es correcta\")\n",
        "\n"
      ],
      "metadata": {
        "id": "ABxSAHsEYjhw"
      },
      "execution_count": null,
      "outputs": []
    }
  ]
}