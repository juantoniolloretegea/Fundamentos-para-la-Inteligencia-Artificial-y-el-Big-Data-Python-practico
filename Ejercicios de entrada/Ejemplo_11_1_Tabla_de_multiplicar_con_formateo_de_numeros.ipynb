{
  "nbformat": 4,
  "nbformat_minor": 0,
  "metadata": {
    "colab": {
      "name": "Ejemplo_11.1_Tabla de multiplicar con formateo de numeros",
      "provenance": [],
      "collapsed_sections": [],
      "mount_file_id": "15GrYOxOodFYmRhNeCJzyfNnrww9QmL42",
      "authorship_tag": "ABX9TyMjAp5q4ZyMJUlzdqqw3ka3"
    },
    "kernelspec": {
      "name": "python3",
      "display_name": "Python 3"
    },
    "language_info": {
      "name": "python"
    }
  },
  "cells": [
    {
      "cell_type": "markdown",
      "source": [
        "Copyright 2022. (Instituto tecnológico virtual de la Inteligencia Artificial para el español ™ | © La Biblia de la IA - The Bible of AI ™ ISSN 2695-641\n",
        "\n",
        "## *Fundamentos para la Inteligencia Artificial y el 'Big Data': «Python práctico»*. \n",
        "**DOI: 10.21428/39829d0b.658ba803**"
      ],
      "metadata": {
        "id": "RHsfDxvxLBd4"
      }
    },
    {
      "cell_type": "markdown",
      "source": [
        "**Autor:** Juan Antonio Lloret Egea."
      ],
      "metadata": {
        "id": "hFcu_uoNLDKm"
      }
    },
    {
      "cell_type": "markdown",
      "source": [
        "#Ejercicio de estructura de control repetitivas, iteraciones, o bucles con variables\n",
        "**Ejercicio 11.1: «Tabla de multiplicar con formateo numérico.»**\n",
        "\n",
        "<sub>**BIBLIOGRAFÍA**</sub>\n",
        "\n",
        "---\n",
        "\n",
        "<sub>[ Muñoz, J. D. (s/f). Python 3 desde cero. Openwebinars.net. Recuperado el 21 de agosto de 2022, de openwebinars.net/academia/portada/python-desde-cero/].</sub>"
      ],
      "metadata": {
        "id": "5y_Y3u1wmGng"
      }
    },
    {
      "cell_type": "code",
      "source": [
        "# Le vamos a pedir al usuario que introduzca un número por teclado y, posteriormente, el programa mostrará la tabla de multiplicar de ese número hasta el 10.\n",
        "# Como el número de iteraciones es conocido (10 iteraciones), usaremos 'for' en detrimento de 'While'.\n",
        "\n",
        "numero = int(input(\"Introduzca el número del que desea conocer su tabla de multiplicar: \"))\n",
        "print(\"----------------------------------------------------------------------------------\")\n",
        "\n",
        "for j in range (1,11):\n",
        "\n",
        "# «j» es la variable contadora. Es normal usar «j» o «i» o «var» u otro similar.\n",
        "  \n",
        "#-----------------------------------------MÁS INFORMACIÓN-----------------------------------------------\n",
        "\n",
        "# %d nos devuelve un valor decimal. Podríamos perdirle, por ejemplo, notación científica '%e'\n",
        "# Se recomienda mirar en la documentación de Python: string — Operaciones comunes de cadena de caracteres.\n",
        "# URL: https://docs.python.org/es/3/library/string.html?highlight=string%20formatting \"\"\"\n",
        "\n",
        "\n",
        "        # Bloque inncesario (Borrar desde aquí hasta el comentario igual). BORRAR DESDE AQUÍ...\n",
        "\n",
        "  print (\"Este sería el resultado sin aplicar formato a la salida:\")\n",
        "  print ((j,numero,j*numero))\n",
        "  print (\"Y este aplicando formato a la salid: \")\n",
        "\n",
        "        # Bloque innecesario (Borrar hasta aquí). BORRAR HASTA AQUÍ.\n",
        "\n",
        "#--------------------------------------------------------------------------------------------\n",
        "  print(\"%d * %d = %d\" % (j,numero,j*numero))\n",
        "\n"
      ],
      "metadata": {
        "id": "ABxSAHsEYjhw"
      },
      "execution_count": null,
      "outputs": []
    }
  ]
}