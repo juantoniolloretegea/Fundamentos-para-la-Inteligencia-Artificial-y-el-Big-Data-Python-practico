{
  "nbformat": 4,
  "nbformat_minor": 0,
  "metadata": {
    "colab": {
      "name": "Ejemplo_11.1_Tabla de multiplicar con formateo de numeros",
      "provenance": [],
      "collapsed_sections": [],
      "mount_file_id": "15GrYOxOodFYmRhNeCJzyfNnrww9QmL42",
      "authorship_tag": "ABX9TyPhPgxSwXX6Ffcpp7Uk8wk5",
      "include_colab_link": true
    },
    "kernelspec": {
      "name": "python3",
      "display_name": "Python 3"
    },
    "language_info": {
      "name": "python"
    }
  },
  "cells": [
    {
      "cell_type": "markdown",
      "metadata": {
        "id": "view-in-github",
        "colab_type": "text"
      },
      "source": [
        "<a href=\"https://colab.research.google.com/github/juantoniolloretegea/Fundamentos-para-la-Inteligencia-Artificial-y-el-Big-Data-Python-practico/blob/main/Ejercicios%20de%20entrada/Ejemplo_11_1_Tabla_de_multiplicar_con_formateo_de_numeros.ipynb\" target=\"_parent\"><img src=\"https://colab.research.google.com/assets/colab-badge.svg\" alt=\"Open In Colab\"/></a>"
      ]
    },
    {
      "cell_type": "code",
      "source": [
        "\"\"\" Le vamos a pedir al usuario que introduzca un número por teclado y, posteriormente, el programa mostrará \n",
        "la tabla de multiplicar de ese número hasta el 10.\"\"\"\n",
        "\n",
        "# Como el número de iteraciones es conocido (10 iteraciones), usaremos 'for' en detrimento de 'While'.\n",
        "\n",
        "numero = int(input(\"Introduzca el número del que desea conocer su tabla de multiplicar: \"))\n",
        "print(\"----------------------------------------------------------------------------------\")\n",
        "\n",
        "for j in range (1,11):\n",
        "\n",
        "# «j» es la variable contadora. Es normal usar «j» o «i» o «var» u otro similar.\n",
        "  \n",
        "#-----------------------------------------MÁS INFORMACIÓN-----------------------------------------------\n",
        "\n",
        "        # Bloque inncesario (Borrar desde aquí hasta el comentario igual). BORRAR DESDE AQUÍ...\n",
        "\n",
        "  print (\"Éste sería el resultado sin aplicar formato a la salida:\")\n",
        "  print (j,numero,j*numero)\n",
        "  print (\"Y éste aplicando formato a la salida: \")\n",
        "\n",
        "        # Bloque innecesario (Borrar hasta aquí). BORRAR HASTA AQUÍ.\n",
        "\n",
        "#--------------------------------------------------------------------------------------------\n",
        "\n",
        "  print(\"%d * %d = %d\" % (j,numero,j*numero))\n",
        "\n",
        "\n",
        "# %d nos devuelve un valor decimal. Podríamos perdirle, por ejemplo, notación científica '%e'.\n",
        "# Se recomienda mirar en la documentación de Python: string — Operaciones comunes de cadena de caracteres.\n",
        "# URL: https://docs.python.org/es/3/library/string.html?highlight=string%20formatting \"\"\"\n",
        "\n",
        "# El uso de estos símbolos, caracteres o elementos está desaconsejado a partir de la V3 de Python. \n",
        "# (Se aconseja 'str.format()').\n",
        "\n",
        "# Veamos un ejemplo más general sobre estos caracteres:\n",
        "\n",
        "decimal = 22.5 \n",
        "entero = 44\n",
        "print(\"\")\n",
        "print(\"---\")\n",
        "print ('%d %f %g %i' % (decimal, decimal, decimal, entero)) \n"
      ],
      "metadata": {
        "id": "ABxSAHsEYjhw"
      },
      "execution_count": null,
      "outputs": []
    },
    {
      "cell_type": "markdown",
      "source": [
        "\n",
        "\n",
        "---\n",
        "\n",
        "\n",
        "Copyright 2022. (Instituto tecnológico virtual de la Inteligencia Artificial para el español ™ | © La Biblia de la IA - The Bible of AI ™ ISSN 2695-641\n",
        "\n",
        "## *Fundamentos para la Inteligencia Artificial y el 'Big Data': «Python práctico»*. \n",
        "**DOI: 10.21428/39829d0b.658ba803**"
      ],
      "metadata": {
        "id": "RHsfDxvxLBd4"
      }
    },
    {
      "cell_type": "markdown",
      "source": [
        "**Autor:** Juan Antonio Lloret Egea."
      ],
      "metadata": {
        "id": "hFcu_uoNLDKm"
      }
    },
    {
      "cell_type": "markdown",
      "source": [
        "#Ejercicio de estructura de control repetitivas, iteraciones, o bucles con variables\n",
        "**Ejercicio 11.1: «Tabla de multiplicar con formateo numérico.»**\n",
        "\n",
        "<sub>**BIBLIOGRAFÍA**</sub>\n",
        "\n",
        "<sub> 1.-) [ Python Software Foundation. (s/f). Contenido de la documentación de Python — documentación de Python - 3.10.6. Python.org. Recuperado el 24 de agosto de 2022, de docs.python.org/es/3/contents.htm ]. </sub>\n",
        "\n",
        "<sub> 2.-) [ Programación en Python - Nivel básico — Materiales del entrenamiento de programación en Python - Nivel básico. (s/f). Readthedocs.io. Recuperado el 24 de agosto de 2022, de entrenamiento-python-basico.readthedocs.io/es/latest/index.html ]\n",
        ".</sub>\n",
        "\n",
        "<sub>  3.-) [Muñoz, J. D. (s/f). Python 3 desde cero. Openwebinars.net. Recuperado el 21 de agosto de 2022, de openwebinars.net/academia/portada/python-desde-cero/]\n",
        ".</sub>\n",
        "\n",
        "<sub> 4.-) [ Python getting started. (s/f). W3schools.com. Recuperado el 24 de agosto de 2022, de w3schools.com/python/python_getstarted.asp ]\n",
        ".</sub>\n",
        "\n",
        "<sub> 5.-) [ Python Software Foundation. (s/f-b). El tutorial de Python — documentación de Python - 3.10.6. Python.org. Recuperado el 24 de agosto de 2022, de docs.python.org/es/3/tutorial/ ]\n",
        "</sub>"
      ],
      "metadata": {
        "id": "5y_Y3u1wmGng"
      }
    }
  ]
}