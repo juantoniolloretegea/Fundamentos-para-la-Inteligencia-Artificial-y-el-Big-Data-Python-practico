{
  "nbformat": 4,
  "nbformat_minor": 0,
  "metadata": {
    "colab": {
      "name": "Ejemplo_9_Contar la cantidad de números impares introducidos",
      "provenance": [],
      "collapsed_sections": [
        "RHsfDxvxLBd4"
      ],
      "mount_file_id": "15GrYOxOodFYmRhNeCJzyfNnrww9QmL42",
      "authorship_tag": "ABX9TyNourp0WrAS9YtYhgK3h6CT"
    },
    "kernelspec": {
      "name": "python3",
      "display_name": "Python 3"
    },
    "language_info": {
      "name": "python"
    }
  },
  "cells": [
    {
      "cell_type": "markdown",
      "source": [
        "Copyright 2022. (Instituto tecnológico virtual de la Inteligencia Artificial para el español ™ | © La Biblia de la IA - The Bible of AI ™ ISSN 2695-641\n",
        "\n",
        "## *Fundamentos para la Inteligencia Artificial y el 'Big Data': «Python práctico»*. \n",
        "**DOI: 10.21428/39829d0b.658ba803**"
      ],
      "metadata": {
        "id": "RHsfDxvxLBd4"
      }
    },
    {
      "cell_type": "markdown",
      "source": [
        "**Autor:** Juan Antonio Lloret Egea."
      ],
      "metadata": {
        "id": "hFcu_uoNLDKm"
      }
    },
    {
      "cell_type": "markdown",
      "source": [
        "#Ejercicio de estructura de control repetitivas, iteraciones, o bucles con variables\n",
        "**Ejercicio 9: «Contar la cantidad de números impares introducidos secuencialmente»**\n",
        "\n",
        "<sub>**BIBLIOGRAFÍA**</sub>\n",
        "\n",
        "---\n",
        "\n",
        "<sub>[ Muñoz, J. D. (s/f). Python 3 desde cero. Openwebinars.net. Recuperado el 21 de agosto de 2022, de openwebinars.net/academia/portada/python-desde-cero/].</sub>"
      ],
      "metadata": {
        "id": "5y_Y3u1wmGng"
      }
    },
    {
      "cell_type": "code",
      "source": [
        "# Este código devolverá el total de números impares introducidos de un rango máximo previamente definido, en este caso 10 iteraciones. \n",
        "# Para ello se comprobará si el resto de la división por 2, es 1: condición para que sea un número impar. Si no, es un número par.\n",
        "\n",
        "# Inicializamos el contador de números (entradas) introducidos a cero.\n",
        "\n",
        "contador = 0\n",
        "\n",
        "for numero in range (1,11):\n",
        "\n",
        "# También entedería: for var ( que sustituye a numero) in range(1,11)\n",
        "\n",
        "  numero=int(input(\"Introduzca 10 números cualesquiera: \"))\n",
        "  if numero % 2 == 1:\n",
        "    contador = contador + 1\n",
        "\n",
        "print (\" Usted ha insertado \", contador, \"números impares\")\n",
        "\n",
        "# Pruebe usted ahora a hacer lo mismo pero usando números pares. La condición sería: «if numero %2 == 0 : »"
      ],
      "metadata": {
        "id": "ABxSAHsEYjhw"
      },
      "execution_count": null,
      "outputs": []
    }
  ]
}