{
  "nbformat": 4,
  "nbformat_minor": 0,
  "metadata": {
    "colab": {
      "name": "Ejemplo_18_Calculadora_básica",
      "provenance": [],
      "collapsed_sections": [],
      "mount_file_id": "15GrYOxOodFYmRhNeCJzyfNnrww9QmL42",
      "authorship_tag": "ABX9TyNhwroGOi4iVRMWyt58gx67",
      "include_colab_link": true
    },
    "kernelspec": {
      "name": "python3",
      "display_name": "Python 3"
    },
    "language_info": {
      "name": "python"
    }
  },
  "cells": [
    {
      "cell_type": "markdown",
      "metadata": {
        "id": "view-in-github",
        "colab_type": "text"
      },
      "source": [
        "<a href=\"https://colab.research.google.com/github/juantoniolloretegea/Fundamentos-para-la-Inteligencia-Artificial-y-el-Big-Data-Python-practico/blob/main/Ejercicios%20de%20entrada/Ejemplo_18_Calculadora_b%C3%A1sica.ipynb\" target=\"_parent\"><img src=\"https://colab.research.google.com/assets/colab-badge.svg\" alt=\"Open In Colab\"/></a>"
      ]
    },
    {
      "cell_type": "code",
      "source": [
        "\"\"\" Las funciones que implementa python en su intérprete están ordenadas en esta URL:\n",
        "https://docs.python.org/es/3/library/functions.html\"\"\"\n",
        "    \n",
        "\"\"\" Se recomienda visualizar la declaración 'return' en la URL: \n",
        "https://docs.python.org/es/3/reference/simple_stmts.html#the-return-statement\"\"\"\n",
        "\n",
        "# En este ejercicio vamos a definir cuatro funciones para operaciones básicas: (+,-,x,/)\n",
        "\n",
        "# Creamos una función que sume dos números.\n",
        "\n",
        "def sumar(x, y):\n",
        "    return x + y\n",
        "\n",
        "# Creamos una función que reste dos números.\n",
        "\n",
        "def restar(x, y):\n",
        "    return x - y\n",
        "\n",
        "# Creamos una función que multiplique dos números.\n",
        "\n",
        "def multiplicar(x, y):\n",
        "    return x * y\n",
        "\n",
        "# Creamos una función que divide dos números.\n",
        "def dividir(x, y):\n",
        "    return x / y\n",
        "\n",
        "print (\"Esta calculadora básica efectuará la opción seleccionada entre dos números. \")\n",
        "print (\"---------------------------------------------------------------------------\")\n",
        "\n",
        "print(\"Introduzca una opción: \")\n",
        "\n",
        "print(\" 1: Sumar. \")\n",
        "print(\" 2: Restar. \")\n",
        "print(\" 3: Multiplicar. \")\n",
        "print(\" 4: Dividir. \")\n",
        "\n",
        "while True:\n",
        "    # Capturamos la entrada insertada por el usuario en la variable «seleccion».\n",
        "    seleccion = input(\" Introduzca una opción: \")\n",
        "\n",
        "    # Comprobamos si elige una de las 4 opciones. De lo contrario, saltará al 'else' final.\n",
        "\n",
        "    if seleccion in (\"1\", \"2\", \"3\", \"4\"):\n",
        "        num1 = float(input(\" Introduzca el primer número: \"))\n",
        "        num2 = float(input(\" Introduzca el segundo número: \"))\n",
        "\n",
        "        if seleccion == \"1\":\n",
        "            print(num1, \"+\", num2, \"=\", sumar(num1, num2))\n",
        "\n",
        "        elif seleccion == \"2\":\n",
        "            print(num1, \"-\", num2, \"=\", restar(num1, num2))\n",
        "\n",
        "        elif seleccion == \"3\":\n",
        "            print(num1, \"x\", num2, \"=\", multiplicar(num1, num2))\n",
        "\n",
        "        elif seleccion == \"4\":\n",
        "            print(num1, \"/\", num2, \"=\", dividir(num1, num2))\n",
        "        \n",
        "        # Comprobamos si el usuario quiere realizar otro cálculo.\n",
        "\n",
        "        # Salir del bucle 'while' si la respuesta es no.\n",
        "\n",
        "        proximo_calculo = input(\"¿Efectuar otro cálculo?(S/N): \")\n",
        "        \n",
        "        if (proximo_calculo == \"N\") or (proximo_calculo == \"n\"):\n",
        "          print(\"Programa finalizado... \")\n",
        "          print (\"----------------------------------------------\")\n",
        "          break\n",
        "          \n",
        "    else:\n",
        "        print(\"---------------------------------------------------\")\n",
        "        print(\"Entrada no válida...\")\n"
      ],
      "metadata": {
        "id": "BL1B7cHM_RDY"
      },
      "execution_count": null,
      "outputs": []
    },
    {
      "cell_type": "markdown",
      "source": [
        "\n",
        "\n",
        "---\n",
        "\n",
        "\n",
        "Copyright 2022. (Instituto tecnológico virtual de la Inteligencia Artificial para el español ™ | © La Biblia de la IA - The Bible of AI ™ ISSN 2695-641\n",
        "\n",
        "## *Fundamentos para la Inteligencia Artificial y el 'Big Data': «Python práctico»*. \n",
        "**DOI: 10.21428/39829d0b.658ba803**"
      ],
      "metadata": {
        "id": "RHsfDxvxLBd4"
      }
    },
    {
      "cell_type": "markdown",
      "source": [
        "**Autor:** Juan Antonio Lloret Egea."
      ],
      "metadata": {
        "id": "hFcu_uoNLDKm"
      }
    },
    {
      "cell_type": "markdown",
      "source": [
        "#Ejercicio de programación estructurada. Manejo de funciones.\n",
        "**Ejercicio 17: «Calculadora básica»**\n",
        "\n",
        "<sub>**BIBLIOGRAFÍA**</sub>\n",
        "\n",
        "---\n",
        "<sub> 1.-) [ Python Software Foundation. (s/f). Contenido de la documentación de Python — documentación de Python - 3.10.6. Python.org. Recuperado el 24 de agosto de 2022, de docs.python.org/es/3/contents.htm ]. </sub>\n",
        "\n",
        "<sub> 2.-) [ Programación en Python - Nivel básico — Materiales del entrenamiento de programación en Python - Nivel básico. (s/f). Readthedocs.io. Recuperado el 24 de agosto de 2022, de entrenamiento-python-basico.readthedocs.io/es/latest/index.html ]\n",
        ".</sub>\n",
        "\n",
        "<sub>  3.-) [Muñoz, J. D. (s/f). Python 3 desde cero. Openwebinars.net. Recuperado el 21 de agosto de 2022, de openwebinars.net/academia/portada/python-desde-cero/]\n",
        ".</sub>\n",
        "\n",
        "<sub> 4.-) [ Python getting started. (s/f). W3schools.com. Recuperado el 24 de agosto de 2022, de w3schools.com/python/python_getstarted.asp ].\n",
        "</sub> \n",
        "\n",
        "<sub> 5.-) [ Python Software Foundation. (s/f-b). El tutorial de Python — documentación de Python - 3.10.6. Python.org. Recuperado el 24 de agosto de 2022, de docs.python.org/es/3/tutorial/] </sub>"
      ],
      "metadata": {
        "id": "5y_Y3u1wmGng"
      }
    }
  ]
}