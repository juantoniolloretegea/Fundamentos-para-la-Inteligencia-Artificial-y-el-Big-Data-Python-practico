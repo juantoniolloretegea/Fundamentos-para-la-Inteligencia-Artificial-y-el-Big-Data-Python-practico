{
  "nbformat": 4,
  "nbformat_minor": 0,
  "metadata": {
    "colab": {
      "name": "Ejemplo_11_insercion numeros hasta cero. Suma y media.",
      "provenance": [],
      "collapsed_sections": [],
      "mount_file_id": "15GrYOxOodFYmRhNeCJzyfNnrww9QmL42",
      "authorship_tag": "ABX9TyPJ/W8+acar/zGDqynTB58b"
    },
    "kernelspec": {
      "name": "python3",
      "display_name": "Python 3"
    },
    "language_info": {
      "name": "python"
    }
  },
  "cells": [
    {
      "cell_type": "code",
      "source": [
        "# El programa se detendrá cuando el usuario inserte el número '0'. (Es decir, para finalizar el proceso introducimos '0').\n",
        "\n",
        "# Para la suma de todos los número usaramos un acumulador. (Inicializamos la variable «acumulador» a '0').\n",
        "# Y para calcular la media usaremos un contador para determinar los números que vamos introduciendo. (Inicializamos la variable «contador» a '0').\n",
        "\n",
        "acumulador = 0\n",
        "contador = 0\n",
        "\n",
        "numero = int(input (\"Inserte un número, por favor: \"))\n",
        "\n",
        "#Mientras el número introducido sea distinto de '0' hacemos el algoritmo.\n",
        "\n",
        "while numero != 0:\n",
        "  acumulador = acumulador + numero\n",
        "  contador = contador + 1\n",
        "  numero = int (input(\"Inserte otro número, por favor: \"))\n",
        "  \n",
        "if contador > 0:\n",
        "\n",
        "# La media será la suma de todos los números entrados, divida por el total de éstos.\n",
        "  media = acumulador / contador\n",
        "else:\n",
        "  media = 0\n",
        "\n",
        "print(\"-----------------------------------------------------------------\")\n",
        "\n",
        "print(\"La suma de todos los números que ha insertado es: \", acumulador)\n",
        "\n",
        "print(\"La media de todos los números que ha insertados es: \", media)"
      ],
      "metadata": {
        "id": "ABxSAHsEYjhw"
      },
      "execution_count": null,
      "outputs": []
    },
    {
      "cell_type": "markdown",
      "source": [
        "\n",
        "\n",
        "---\n",
        "\n",
        "\n",
        "Copyright 2022. (Instituto tecnológico virtual de la Inteligencia Artificial para el español ™ | © La Biblia de la IA - The Bible of AI ™ ISSN 2695-641\n",
        "\n",
        "## *Fundamentos para la Inteligencia Artificial y el 'Big Data': «Python práctico»*. \n",
        "**DOI: 10.21428/39829d0b.658ba803**"
      ],
      "metadata": {
        "id": "RHsfDxvxLBd4"
      }
    },
    {
      "cell_type": "markdown",
      "source": [
        "**Autor:** Juan Antonio Lloret Egea."
      ],
      "metadata": {
        "id": "hFcu_uoNLDKm"
      }
    },
    {
      "cell_type": "markdown",
      "source": [
        "#Ejercicio de estructura de control repetitivas, iteraciones, o bucles con variables\n",
        "**Ejercicio 11: «Inserción de números hasta que se introduzca un '0': calcula la suma y la media.»**\n",
        "\n",
        "<sub>**BIBLIOGRAFÍA**</sub>\n",
        "\n",
        "<sub> 1.-) [ Python Software Foundation. (s/f). Contenido de la documentación de Python — documentación de Python - 3.10.6. Python.org. Recuperado el 24 de agosto de 2022, de docs.python.org/es/3/contents.htm ]. </sub>\n",
        "\n",
        "<sub> 2.-) [ Programación en Python - Nivel básico — Materiales del entrenamiento de programación en Python - Nivel básico. (s/f). Readthedocs.io. Recuperado el 24 de agosto de 2022, de entrenamiento-python-basico.readthedocs.io/es/latest/index.html ]\n",
        ".</sub>\n",
        "\n",
        "<sub>  3.-) [Muñoz, J. D. (s/f). Python 3 desde cero. Openwebinars.net. Recuperado el 21 de agosto de 2022, de openwebinars.net/academia/portada/python-desde-cero/]\n",
        ".</sub>\n",
        "\n",
        "<sub> 4.-) [ Python getting started. (s/f). W3schools.com. Recuperado el 24 de agosto de 2022, de w3schools.com/python/python_getstarted.asp ]\n",
        ".</sub>\n",
        "\n",
        "<sub> 5.-) [ Python Software Foundation. (s/f-b). El tutorial de Python — documentación de Python - 3.10.6. Python.org. Recuperado el 24 de agosto de 2022, de docs.python.org/es/3/tutorial/ ]\n",
        "</sub>"
      ],
      "metadata": {
        "id": "5y_Y3u1wmGng"
      }
    }
  ]
}