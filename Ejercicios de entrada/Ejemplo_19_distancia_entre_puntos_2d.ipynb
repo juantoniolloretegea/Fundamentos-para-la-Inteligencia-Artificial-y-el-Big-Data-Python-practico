{
  "nbformat": 4,
  "nbformat_minor": 0,
  "metadata": {
    "colab": {
      "provenance": [],
      "collapsed_sections": [],
      "mount_file_id": "15GrYOxOodFYmRhNeCJzyfNnrww9QmL42",
      "authorship_tag": "ABX9TyMPcUKW42zYo1Iu/RutiDfl",
      "include_colab_link": true
    },
    "kernelspec": {
      "name": "python3",
      "display_name": "Python 3"
    },
    "language_info": {
      "name": "python"
    }
  },
  "cells": [
    {
      "cell_type": "markdown",
      "metadata": {
        "id": "view-in-github",
        "colab_type": "text"
      },
      "source": [
        "<a href=\"https://colab.research.google.com/github/juantoniolloretegea/Fundamentos-para-la-Inteligencia-Artificial-y-el-Big-Data-Python-practico/blob/main/Ejercicios%20de%20entrada/Ejemplo_19_distancia_entre_puntos_2d.ipynb\" target=\"_parent\"><img src=\"https://colab.research.google.com/assets/colab-badge.svg\" alt=\"Open In Colab\"/></a>"
      ]
    },
    {
      "cell_type": "code",
      "source": [
        "# Más información sobre la fórmula empleada para la distancia entre dos puntos en:\n",
        "# https://es.wikipedia.org/wiki/Distancia_euclidiana \n",
        "\n",
        "# Importamos el módulo de matemáticas para usar luego la raíz cuadrada.\n",
        "import math\n",
        "\n",
        "# Definimos la clase  «Coordenadas».\n",
        "\n",
        "class Coordenadas():\n",
        "\n",
        "# Definimos / creamos el método constructor '__init__' y sus parámetros (para construir los objetos).\n",
        "\n",
        "  def __init__(self,x,y):\n",
        "\n",
        "# Definimos los atributos de la clase, y se los pasamos por parámetro al método '_init__'\n",
        "\n",
        "    self.coordenada_x=x\n",
        "    self.coordenada_y=y\n",
        "\n",
        "# Creamos el método 'espacio()' para calcular la distancia. \n",
        "#(Le pasamos como parámetro uno de los dos puntos, en este caso segundo_punto).\n",
        "\n",
        "  def espacio (self,segundo_punto):\n",
        "    \"\"\" Calcula y retorna la distancia entre dos puntos en el plano cartesiano (X,Y) \"\"\"\n",
        "\n",
        "    distancia_X = self.coordenada_x - segundo_punto.coordenada_x\n",
        "    distancia_Y = self.coordenada_y - segundo_punto.coordenada_y\n",
        "\n",
        "    return math.sqrt((distancia_X**2 + distancia_Y**2))\n",
        "\n",
        "\n",
        "primer_punto = Coordenadas(5,7)\n",
        "segundo_punto = Coordenadas(6,8)\n",
        "\n",
        "\n",
        "print(primer_punto.coordenada_x,  \":\", primer_punto.coordenada_y)\n",
        "\n",
        "print(segundo_punto.coordenada_x, \":\", segundo_punto.coordenada_y)\n",
        "\n",
        "# Calculamos e imprimos la distancia entre el primer_punto y el segundo_punto. Para ello, dos formas:\n",
        "  # Aplicamos el método 'espacio()' al primer_punto.\n",
        "  # Hacemos lo mismo (para cotejar) aplicando el método 'espacio()' al segundo_punto.\n",
        "\n",
        "print(\"La distancia entre los dos puntos es:\",primer_punto.espacio(segundo_punto), \"(unidades de medida)\")\n",
        "print(\"La distancia entre los dos puntos es (ahora al inverso):\",segundo_punto.espacio(primer_punto), \"(unidades de medida)\")\n",
        "print(\"...\")\n",
        "\n",
        "# Vamos a introducir un nuevo punto, e imprimir sus coordenadas y calcular la nueva distancia.\n",
        "\n",
        "segundo_punto = Coordenadas(8,10)\n",
        "\n",
        "print(\"Las coordenadas del segundo punto se han modificado a ->\",\"(\",segundo_punto.coordenada_x,\":\", segundo_punto.coordenada_y,\")\")\n",
        "print(\"--\")\n",
        "print(\"La distancia entre los dos puntos es ahora:\",primer_punto.espacio(segundo_punto))\n",
        "\n",
        "\n",
        "# Nuestro código está listo para construir nuevos puntos.\n",
        "# Y también para calcular sus distancias con el método 'espacio()'\n"
      ],
      "metadata": {
        "id": "vqdUtcCUGLru",
        "colab": {
          "base_uri": "https://localhost:8080/"
        },
        "outputId": "f5213a7c-2b03-4d94-ce38-dc3295913f4b"
      },
      "execution_count": 60,
      "outputs": [
        {
          "output_type": "stream",
          "name": "stdout",
          "text": [
            "5 : 7\n",
            "6 : 8\n",
            "La distancia entre los dos puntos es: 1.4142135623730951 (unidades de medida)\n",
            "La distancia entre los dos puntos es (ahora al inverso): 1.4142135623730951 (unidades de medida)\n",
            "...\n",
            "Las coordenadas del segundo punto se han modificado a -> ( 8 : 10 )\n",
            "--\n",
            "La distancia entre los dos puntos es ahora: 4.242640687119285\n"
          ]
        }
      ]
    },
    {
      "cell_type": "markdown",
      "source": [
        "\n",
        "\n",
        "---\n",
        "\n",
        "\n",
        "Copyright 2022. (Instituto tecnológico virtual de la Inteligencia Artificial para el español ™ | © La Biblia de la IA - The Bible of AI ™ ISSN 2695-641\n",
        "\n",
        "## *Fundamentos para la Inteligencia Artificial y el 'Big Data': «Python práctico»*. \n",
        "**DOI: 10.21428/39829d0b.658ba803**"
      ],
      "metadata": {
        "id": "RHsfDxvxLBd4"
      }
    },
    {
      "cell_type": "markdown",
      "source": [
        "**Autor:** Juan Antonio Lloret Egea.\n",
        "\n",
        "<sub>\n",
        "| Versión: V.1 | Fecha de creación: (02/09/2022) | Fecha de actualización:(   /   /  ) | Creado por: Juan Antonio Lloret Egea | Revisado por (     ) |    Aprobado por: Juan Antonio Lloret Egea |\n",
        "</sub>"
      ],
      "metadata": {
        "id": "hFcu_uoNLDKm"
      }
    },
    {
      "cell_type": "markdown",
      "source": [
        "#Ejercicio de Programación Orientada a Objetos\n",
        "**Ejercicio 19: «Distancia entre 2 puntos en 2D»**\n",
        "\n",
        "<sub>**BIBLIOGRAFÍA**</sub>\n",
        "\n",
        "---\n",
        "<sub> 1.-) [ Python Software Foundation. (s/f). Contenido de la documentación de Python — documentación de Python - 3.10.6. Python.org. Recuperado el 24 de agosto de 2022, de docs.python.org/es/3/contents.htm ]. </sub>\n",
        "\n",
        "<sub> 2.-) [ Programación en Python - Nivel básico — Materiales del entrenamiento de programación en Python - Nivel básico. (s/f). Readthedocs.io. Recuperado el 24 de agosto de 2022, de entrenamiento-python-basico.readthedocs.io/es/latest/index.html ]\n",
        ".</sub>\n",
        "\n",
        "<sub>  3.-) [Muñoz, J. D. (s/f). Python 3 desde cero. Openwebinars.net. Recuperado el 21 de agosto de 2022, de openwebinars.net/academia/portada/python-desde-cero/]\n",
        ".</sub>\n",
        "\n",
        "<sub> 4.-) [ Python getting started. (s/f). W3schools.com. Recuperado el 24 de agosto de 2022, de w3schools.com/python/python_getstarted.asp ].\n",
        "</sub> \n",
        "\n",
        "<sub> 5.-) [ Python Software Foundation. (s/f-b). El tutorial de Python — documentación de Python - 3.10.6. Python.org. Recuperado el 24 de agosto de 2022, de docs.python.org/es/3/tutorial/] </sub>"
      ],
      "metadata": {
        "id": "5y_Y3u1wmGng"
      }
    }
  ]
}