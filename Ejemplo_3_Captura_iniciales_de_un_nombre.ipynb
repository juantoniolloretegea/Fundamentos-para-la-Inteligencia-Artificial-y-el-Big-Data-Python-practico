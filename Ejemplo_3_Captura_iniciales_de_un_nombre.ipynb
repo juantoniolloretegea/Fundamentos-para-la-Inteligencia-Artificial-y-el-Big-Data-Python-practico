{
  "nbformat": 4,
  "nbformat_minor": 0,
  "metadata": {
    "colab": {
      "name": "Ejemplo_3_Captura iniciales de un nombre",
      "provenance": [],
      "collapsed_sections": [],
      "mount_file_id": "15GrYOxOodFYmRhNeCJzyfNnrww9QmL42",
      "authorship_tag": "ABX9TyMB4MEzlo2eAA1ONJDtx/3N"
    },
    "kernelspec": {
      "name": "python3",
      "display_name": "Python 3"
    },
    "language_info": {
      "name": "python"
    }
  },
  "cells": [
    {
      "cell_type": "markdown",
      "source": [
        "Copyright 2022. (Instituto tecnológico virtual de la Inteligencia Artificial para el español ™ | © La Biblia de la IA - The Bible of AI ™ ISSN 2695-641\n",
        "\n",
        "## *Fundamentos para la Inteligencia Artificial y el 'Big Data': «Python práctico»*. \n",
        "**DOI: 10.21428/39829d0b.658ba803**"
      ],
      "metadata": {
        "id": "RHsfDxvxLBd4"
      }
    },
    {
      "cell_type": "markdown",
      "source": [
        "**Autor:** Juan Antonio Lloret Egea."
      ],
      "metadata": {
        "id": "hFcu_uoNLDKm"
      }
    },
    {
      "cell_type": "markdown",
      "source": [
        "#Ejercicio de estructura secuencial\n",
        "**Ejercicio 3: «Capturar iniciales de un nombre»**\n",
        "\n",
        "<sub>**BIBLIOGRAFÍA**</sub>\n",
        "\n",
        "---\n",
        "\n",
        "<sub>[ Muñoz, J. D. (s/f). Python 3 desde cero. Openwebinars.net. Recuperado el 21 de agosto de 2022, de openwebinars.net/academia/portada/python-desde-cero/].</sub>"
      ],
      "metadata": {
        "id": "5y_Y3u1wmGng"
      }
    },
    {
      "cell_type": "code",
      "source": [
        "#Capturamos las entrada/s introducida en teclado por el usuario.\n",
        "\n",
        "nombre = input(\"Introduzca su nombre: \")\n",
        "apellido1 = input(\"Introduzca su primer apellido: \")\n",
        "apellido2 = input(\"Introduzca su segundo apellido: \")\n",
        "\n",
        "#Nos quedamos con el primer caracter (índice) de cada variable y vamos concatenando.\n",
        "\n",
        "iniciales = nombre[0]\n",
        "iniciales = iniciales + apellido1[0]\n",
        "iniciales = iniciales + apellido2[0]\n",
        "\n",
        "\"\"\"Un método es una acción que le aplicamos a un objeto.\n",
        "Lo llamaremos poniendo un punto después del objeto \n",
        "al que queremos aplicarle esa acción.\n",
        "Aplicamos el método upper para convertir \n",
        "a mayúsculas las entradas del usuario\"\"\"\n",
        "\n",
        "iniciales = iniciales.upper()\n",
        "\n",
        "print(\"Las iniciales de su nombre son:\",iniciales)"
      ],
      "metadata": {
        "id": "-BgzfWXTMHfo"
      },
      "execution_count": null,
      "outputs": []
    }
  ]
}